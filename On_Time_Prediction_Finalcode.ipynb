{
  "cells": [
    {
      "cell_type": "markdown",
      "source": [
        "Setting Up Pyspark Environment"
      ],
      "metadata": {
        "id": "0WR4acU_k2y8"
      },
      "id": "0WR4acU_k2y8"
    },
    {
      "cell_type": "code",
      "source": [
        "!pip install pyspark"
      ],
      "metadata": {
        "colab": {
          "base_uri": "https://localhost:8080/"
        },
        "id": "7aicpYyA9ViM",
        "outputId": "c9abd5a6-05d2-414c-f43b-0a9264be3a36"
      },
      "id": "7aicpYyA9ViM",
      "execution_count": null,
      "outputs": [
        {
          "output_type": "stream",
          "name": "stdout",
          "text": [
            "Looking in indexes: https://pypi.org/simple, https://us-python.pkg.dev/colab-wheels/public/simple/\n",
            "Collecting pyspark\n",
            "  Downloading pyspark-3.3.1.tar.gz (281.4 MB)\n",
            "\u001b[K     |████████████████████████████████| 281.4 MB 40 kB/s \n",
            "\u001b[?25hCollecting py4j==0.10.9.5\n",
            "  Downloading py4j-0.10.9.5-py2.py3-none-any.whl (199 kB)\n",
            "\u001b[K     |████████████████████████████████| 199 kB 64.6 MB/s \n",
            "\u001b[?25hBuilding wheels for collected packages: pyspark\n",
            "  Building wheel for pyspark (setup.py) ... \u001b[?25l\u001b[?25hdone\n",
            "  Created wheel for pyspark: filename=pyspark-3.3.1-py2.py3-none-any.whl size=281845512 sha256=633f1230e3f9cf776ecc24804b797ecc66305e389274bf2a71b7f619e8573704\n",
            "  Stored in directory: /root/.cache/pip/wheels/43/dc/11/ec201cd671da62fa9c5cc77078235e40722170ceba231d7598\n",
            "Successfully built pyspark\n",
            "Installing collected packages: py4j, pyspark\n",
            "Successfully installed py4j-0.10.9.5 pyspark-3.3.1\n"
          ]
        }
      ]
    },
    {
      "cell_type": "markdown",
      "source": [
        "Connecting Google Drive to Collab"
      ],
      "metadata": {
        "id": "777nQVbLkwu4"
      },
      "id": "777nQVbLkwu4"
    },
    {
      "cell_type": "code",
      "source": [
        "from google.colab import drive\n",
        "drive.mount(\"/content/drive\")"
      ],
      "metadata": {
        "colab": {
          "base_uri": "https://localhost:8080/"
        },
        "id": "BZse0bu6Bqvx",
        "outputId": "2fed30c6-bf6f-470a-acd5-508852323293"
      },
      "id": "BZse0bu6Bqvx",
      "execution_count": null,
      "outputs": [
        {
          "output_type": "stream",
          "name": "stdout",
          "text": [
            "Drive already mounted at /content/drive; to attempt to forcibly remount, call drive.mount(\"/content/drive\", force_remount=True).\n"
          ]
        }
      ]
    },
    {
      "cell_type": "code",
      "source": [
        "%cd /content/drive/MyDrive/IDS 561 Big Data Analytics Project"
      ],
      "metadata": {
        "colab": {
          "base_uri": "https://localhost:8080/"
        },
        "id": "ZQJLTCkkBqZF",
        "outputId": "88701391-8a9d-4c0b-bc4b-dc645112d723"
      },
      "id": "ZQJLTCkkBqZF",
      "execution_count": null,
      "outputs": [
        {
          "output_type": "stream",
          "name": "stdout",
          "text": [
            "/content/drive/MyDrive/IDS 561 Big Data Analytics Project\n"
          ]
        }
      ]
    },
    {
      "cell_type": "markdown",
      "source": [
        "Importing the Important Libraries"
      ],
      "metadata": {
        "id": "KuCqeP6llCuN"
      },
      "id": "KuCqeP6llCuN"
    },
    {
      "cell_type": "code",
      "execution_count": null,
      "id": "91e520ed",
      "metadata": {
        "id": "91e520ed"
      },
      "outputs": [],
      "source": [
        "import numpy as np\n",
        "import pandas as pd \n",
        "import os\n",
        "import pyspark\n",
        "from pyspark.sql import SparkSession\n",
        "from pyspark.sql.types import StructType, StructField, IntegerType, StringType\n",
        "from pyspark.sql.functions import round\n",
        "from pyspark.ml.classification import LogisticRegression \n",
        "from pyspark.ml.classification import DecisionTreeClassifier\n",
        "from pyspark.ml.evaluation import MulticlassClassificationEvaluator, BinaryClassificationEvaluator\n",
        "from pyspark.ml import Pipeline\n",
        "from pyspark.ml.feature import IndexToString, StringIndexer, VectorIndexer, VectorAssembler\n",
        "from pyspark.sql.functions import isnan, when, count, col"
      ]
    },
    {
      "cell_type": "markdown",
      "source": [
        "Craeting Local Spark Session"
      ],
      "metadata": {
        "id": "zWPlzcK1lGTf"
      },
      "id": "zWPlzcK1lGTf"
    },
    {
      "cell_type": "code",
      "execution_count": null,
      "id": "b81d0f41",
      "metadata": {
        "id": "b81d0f41"
      },
      "outputs": [],
      "source": [
        "spark = SparkSession.builder.master('local[*]').appName('group7').getOrCreate()"
      ]
    },
    {
      "cell_type": "markdown",
      "source": [
        "Importing the CSV from Google Drive"
      ],
      "metadata": {
        "id": "oDSTHx69lME0"
      },
      "id": "oDSTHx69lME0"
    },
    {
      "cell_type": "code",
      "execution_count": null,
      "id": "81bb5aae",
      "metadata": {
        "id": "81bb5aae"
      },
      "outputs": [],
      "source": [
        "df = spark.read.csv('/content/drive/MyDrive/IDS 561 Big Data Analytics Project/On_Time_Prediction_Dataset.csv', header='True',sep=',',inferSchema=True,\n",
        "                         nullValue='NA')"
      ]
    },
    {
      "cell_type": "markdown",
      "source": [
        "Removing Uncessary columns and records with missing values"
      ],
      "metadata": {
        "id": "zUYo71kMlUNf"
      },
      "id": "zUYo71kMlUNf"
    },
    {
      "cell_type": "code",
      "execution_count": null,
      "id": "b9856abc",
      "metadata": {
        "colab": {
          "base_uri": "https://localhost:8080/"
        },
        "id": "b9856abc",
        "outputId": "ab8d32ea-5bbf-4a15-eced-e0a44d4585bc"
      },
      "outputs": [
        {
          "output_type": "stream",
          "name": "stdout",
          "text": [
            "258289\n"
          ]
        }
      ],
      "source": [
        "\n",
        "df =  df.drop('flight')\n",
        "\n",
        "df = df.dropna()\n",
        "print(df.count())"
      ]
    },
    {
      "cell_type": "markdown",
      "source": [
        "Creating Label and making changes in the columns"
      ],
      "metadata": {
        "id": "pEUAMprAlf9c"
      },
      "id": "pEUAMprAlf9c"
    },
    {
      "cell_type": "code",
      "execution_count": null,
      "id": "c4d39c2f",
      "metadata": {
        "id": "c4d39c2f",
        "colab": {
          "base_uri": "https://localhost:8080/"
        },
        "outputId": "14ce82de-21d8-43c0-cf99-f41496b85858"
      },
      "outputs": [
        {
          "output_type": "stream",
          "name": "stdout",
          "text": [
            "+-----+----+-----------+----------+------+------+---------------+-----+-----------+-----+\n",
            "|Month|Date|Day of Week|Airline_ID|Origin|depart|Flight_Duration|Delay|Distance_km|label|\n",
            "+-----+----+-----------+----------+------+------+---------------+-----+-----------+-----+\n",
            "|   10|  10|          1|        OO|   ORD|  8.18|             51|   27|      253.0|    1|\n",
            "|   11|  22|          1|        OO|   ORD|  7.17|            127|  -19|     1188.0|    0|\n",
            "|    2|  14|          5|        B6|   JFK| 21.17|            365|   60|     3618.0|    1|\n",
            "|    5|  25|          3|        WN|   SJC| 12.92|             85|   22|      621.0|    1|\n",
            "|    3|  28|          1|        B6|   LGA| 13.33|            182|   70|     1732.0|    1|\n",
            "+-----+----+-----------+----------+------+------+---------------+-----+-----------+-----+\n",
            "only showing top 5 rows\n",
            "\n"
          ]
        }
      ],
      "source": [
        "df1 = df\n",
        "flight_df = df1.withColumn('Distance_km', round(df1.Distance * 1.60934, 0)).drop('Distance')\n",
        "\n",
        "flight_df = flight_df.withColumn('label', (flight_df.Delay >= 10).cast('integer'))\n",
        "\n",
        "flight_df.show(5)"
      ]
    },
    {
      "cell_type": "markdown",
      "source": [
        "Using the indexer to create colums with numerical index values"
      ],
      "metadata": {
        "id": "E2f5GYLiltgi"
      },
      "id": "E2f5GYLiltgi"
    },
    {
      "cell_type": "code",
      "execution_count": null,
      "id": "98d31696",
      "metadata": {
        "colab": {
          "base_uri": "https://localhost:8080/"
        },
        "id": "98d31696",
        "outputId": "00bf7610-8599-454e-91b6-e2d779391d55"
      },
      "outputs": [
        {
          "output_type": "stream",
          "name": "stdout",
          "text": [
            "+-----+----+-----------+----------+------+------+---------------+-----+-----------+-----+-----------+----------+\n",
            "|Month|Date|Day of Week|Airline_ID|Origin|depart|Flight_Duration|Delay|Distance_km|label|airline_idx|origin_idx|\n",
            "+-----+----+-----------+----------+------+------+---------------+-----+-----------+-----+-----------+----------+\n",
            "|   10|  10|          1|        OO|   ORD|  8.18|             51|   27|      253.0|    1|        2.0|       0.0|\n",
            "|   11|  22|          1|        OO|   ORD|  7.17|            127|  -19|     1188.0|    0|        2.0|       0.0|\n",
            "|    2|  14|          5|        B6|   JFK| 21.17|            365|   60|     3618.0|    1|        4.0|       2.0|\n",
            "|    5|  25|          3|        WN|   SJC| 12.92|             85|   22|      621.0|    1|        3.0|       5.0|\n",
            "|    3|  28|          1|        B6|   LGA| 13.33|            182|   70|     1732.0|    1|        4.0|       3.0|\n",
            "+-----+----+-----------+----------+------+------+---------------+-----+-----------+-----+-----------+----------+\n",
            "only showing top 5 rows\n",
            "\n"
          ]
        }
      ],
      "source": [
        "indexer = StringIndexer(inputCol='Airline_ID', outputCol='airline_idx').fit(flight_df).transform(flight_df)\n",
        "\n",
        "indexer = StringIndexer(inputCol='Origin', outputCol='origin_idx').fit(indexer).transform(indexer)\n",
        "indexer.show(5)"
      ]
    },
    {
      "cell_type": "markdown",
      "source": [
        "Creating the Vector Assembler"
      ],
      "metadata": {
        "id": "qf6iPQpsl3Qx"
      },
      "id": "qf6iPQpsl3Qx"
    },
    {
      "cell_type": "code",
      "execution_count": null,
      "id": "182a3050",
      "metadata": {
        "id": "182a3050",
        "colab": {
          "base_uri": "https://localhost:8080/"
        },
        "outputId": "89eecb78-3f92-4d17-bba8-33bb5a1bb5a7"
      },
      "outputs": [
        {
          "output_type": "stream",
          "name": "stdout",
          "text": [
            "+-----------------------------------------+-----+\n",
            "|features                                 |Delay|\n",
            "+-----------------------------------------+-----+\n",
            "|[10.0,10.0,1.0,2.0,0.0,253.0,8.18,51.0]  |27   |\n",
            "|[11.0,22.0,1.0,2.0,0.0,1188.0,7.17,127.0]|-19  |\n",
            "|[2.0,14.0,5.0,4.0,2.0,3618.0,21.17,365.0]|60   |\n",
            "|[5.0,25.0,3.0,3.0,5.0,621.0,12.92,85.0]  |22   |\n",
            "|[3.0,28.0,1.0,4.0,3.0,1732.0,13.33,182.0]|70   |\n",
            "+-----------------------------------------+-----+\n",
            "only showing top 5 rows\n",
            "\n"
          ]
        }
      ],
      "source": [
        "\n",
        "assembler = VectorAssembler(inputCols=['Month', 'Date', 'Day of Week', 'airline_idx', 'origin_idx', 'Distance_km', 'depart', 'Flight_Duration'], \n",
        "                            outputCol='features')\n",
        "\n",
        "flight_assembler = assembler.transform(indexer)\n",
        "\n",
        "flight_assembler.select('features', 'Delay').show(5, truncate=False)"
      ]
    },
    {
      "cell_type": "markdown",
      "source": [
        "Building The ML Models and using them for carrying out the prediction"
      ],
      "metadata": {
        "id": "j9wOPC5WmPGH"
      },
      "id": "j9wOPC5WmPGH"
    },
    {
      "cell_type": "markdown",
      "source": [
        "## Decision Tree"
      ],
      "metadata": {
        "id": "QG8e7eGlBskk"
      },
      "id": "QG8e7eGlBskk"
    },
    {
      "cell_type": "code",
      "execution_count": null,
      "id": "ca6807a7",
      "metadata": {
        "id": "ca6807a7"
      },
      "outputs": [],
      "source": [
        "# Split into training and testing sets in a 80:20 ratio\n",
        "train_data, test_data = flight_assembler.randomSplit([0.7, 0.3], seed=142)\n",
        "\n",
        "# Check that training set has around 80% of records\n",
        "training_ratio = train_data.count() / flight_assembler.count()\n",
        "print(training_ratio)"
      ]
    },
    {
      "cell_type": "code",
      "execution_count": null,
      "id": "8fc3ed98",
      "metadata": {
        "colab": {
          "base_uri": "https://localhost:8080/"
        },
        "id": "8fc3ed98",
        "outputId": "b16cb45e-2681-41f3-99b0-4d00f923bb33"
      },
      "outputs": [
        {
          "output_type": "stream",
          "name": "stdout",
          "text": [
            "+-----+----------+----------------------------------------+\n",
            "|label|prediction|probability                             |\n",
            "+-----+----------+----------------------------------------+\n",
            "|0    |1.0       |[0.45795745628689166,0.5420425437131083]|\n",
            "|0    |1.0       |[0.33855858846965636,0.6614414115303436]|\n",
            "|1    |1.0       |[0.33855858846965636,0.6614414115303436]|\n",
            "|0    |1.0       |[0.33855858846965636,0.6614414115303436]|\n",
            "|1    |1.0       |[0.45795745628689166,0.5420425437131083]|\n",
            "+-----+----------+----------------------------------------+\n",
            "only showing top 5 rows\n",
            "\n"
          ]
        }
      ],
      "source": [
        "# Create a DT classifier object and train the model\n",
        "dt = DecisionTreeClassifier()\n",
        "dt_model = dt.fit(train_data)\n",
        "\n",
        "# Create predictions on test data\n",
        "pred_dt = dt_model.transform(test_data)\n",
        "pred_dt.select('label', 'prediction', 'probability').show(5, False)"
      ]
    },
    {
      "cell_type": "code",
      "execution_count": null,
      "id": "34d97778",
      "metadata": {
        "colab": {
          "base_uri": "https://localhost:8080/"
        },
        "id": "34d97778",
        "outputId": "7e04a946-1f7e-4b39-fb44-89ae2e6e3219"
      },
      "outputs": [
        {
          "output_type": "stream",
          "name": "stdout",
          "text": [
            "+-----+----------+-----+\n",
            "|label|prediction|count|\n",
            "+-----+----------+-----+\n",
            "|    1|       0.0| 8247|\n",
            "|    0|       0.0|16084|\n",
            "|    1|       1.0|33616|\n",
            "|    0|       1.0|19652|\n",
            "+-----+----------+-----+\n",
            "\n",
            "16084\n",
            "33616\n",
            "8247\n",
            "19652\n",
            "0.6404721710331319\n",
            "precision = 0.63\n",
            "recall    = 0.80\n",
            "0.7067307186931705\n"
          ]
        }
      ],
      "source": [
        "# Create a confusion matrix\n",
        "pred_dt.groupBy('label', 'prediction').count().show()\n",
        "\n",
        "# Calculate the True Negative, True Positive, False Positive, False Negative of the confusion matrix\n",
        "TN = pred_dt.filter('prediction = 0 AND label = prediction').count()\n",
        "TP = pred_dt.filter('prediction = 1 AND label = prediction').count()\n",
        "FN = pred_dt.filter('prediction = 0 AND label != prediction').count()\n",
        "FP = pred_dt.filter('prediction = 1 AND label != prediction').count()\n",
        "\n",
        "print(TN)\n",
        "print(TP)\n",
        "print(FN)\n",
        "print(FP)\n",
        "\n",
        "# Calucating accuracy of the decision tree\n",
        "accuracy = (TN + TP) / (TN + TP + FN + FP)\n",
        "print(accuracy)\n",
        "\n",
        "# Calculating precision, recall and F1-score\n",
        "precision = TP / (TP + FP)\n",
        "recall = TP / (TP + FN)\n",
        "print('precision = {:.2f}\\nrecall    = {:.2f}'.format(precision, recall))\n",
        "\n",
        "F1 = 2 * (precision * recall) / (precision + recall)\n",
        "print(F1)"
      ]
    },
    {
      "cell_type": "markdown",
      "source": [
        "## Logistic Regression"
      ],
      "metadata": {
        "id": "sUu0IQ-3Bvmq"
      },
      "id": "sUu0IQ-3Bvmq"
    },
    {
      "cell_type": "code",
      "execution_count": null,
      "id": "c03ad3b1",
      "metadata": {
        "id": "c03ad3b1",
        "colab": {
          "base_uri": "https://localhost:8080/"
        },
        "outputId": "f2a33401-0317-479a-bfc5-e9f383975fb4"
      },
      "outputs": [
        {
          "output_type": "stream",
          "name": "stdout",
          "text": [
            "Coefficients: [-0.05628186768554718,-0.0006786536847674437,0.0034686176921529042,-0.047332940615740254,-0.13122707872530115,-0.0006032439639722247,0.07582648553569797,0.009506467271411218]\n",
            "Intercept: -0.8784838175296692\n",
            "Accuracy: 0.6155681000608777\n",
            "Precision: [0.602545739135571, 0.6233745540812081]\n",
            "Recall: [0.4895503407236779, 0.7234790112802811]\n",
            "+-----+----------+-----+\n",
            "|label|prediction|count|\n",
            "+-----+----------+-----+\n",
            "|    1|       0.0|11773|\n",
            "|    0|       0.0|17346|\n",
            "|    1|       1.0|30090|\n",
            "|    0|       1.0|18390|\n",
            "+-----+----------+-----+\n",
            "\n"
          ]
        }
      ],
      "source": [
        "# Train the model using logistic regression\n",
        "logistic_model = LogisticRegression().fit(train_data)\n",
        "\n",
        "# Printing the coefficients and intercept for logistic regression\n",
        "print(\"Coefficients: %s\" % str(logistic_model.coefficients))\n",
        "print(\"Intercept: %s\" % str(logistic_model.intercept))\n",
        "\n",
        "# Summarizing the model over the training set and printing accuracy, precision and recall\n",
        "train_Summary = logistic_model.summary\n",
        "print(\"Accuracy: %s\" % str(train_Summary.accuracy))\n",
        "print(\"Precision: %s\" % str(train_Summary.precisionByLabel))\n",
        "print(\"Recall: %s\" % str(train_Summary.recallByLabel))  \n",
        "\n",
        "# Creating predictions on test data\n",
        "pred_log_reg = logistic_model.transform(test_data)\n",
        "pred_log_reg.groupBy('label', 'prediction').count().show()"
      ]
    },
    {
      "cell_type": "code",
      "execution_count": null,
      "id": "8eecb5e0",
      "metadata": {
        "colab": {
          "base_uri": "https://localhost:8080/"
        },
        "id": "8eecb5e0",
        "outputId": "512045ec-8020-4695-deb8-5664320ff545"
      },
      "outputs": [
        {
          "output_type": "stream",
          "name": "stdout",
          "text": [
            "precision = 0.62\n",
            "recall    = 0.72\n",
            "accuracy = 0.61\n",
            "0.6661279789247645\n",
            "weighted_precision = 0.61\n",
            "AUC = 0.64\n"
          ]
        }
      ],
      "source": [
        "# Calculate the True Negative, True Positive, False Positive, False Negative of the confusion matrix\n",
        "TN1 = pred_log_reg.filter('prediction = 0 AND label = prediction').count()\n",
        "TP1 = pred_log_reg.filter('prediction = 1 AND label = prediction').count()\n",
        "FN1 = pred_log_reg.filter('prediction = 0 AND label != prediction').count()\n",
        "FP1 = pred_log_reg.filter('prediction = 1 AND label != prediction').count()\n",
        "\n",
        "# Calculate precision and recall\n",
        "precision = TP1 / (TP1 + FP1)\n",
        "recall = TP1 / (TP1 + FN1)\n",
        "print('precision = {:.2f}\\nrecall    = {:.2f}'.format(precision, recall))\n",
        "\n",
        "# Computing accuracy and F1-score\n",
        "accuracy = (TN1 + TP1) / (TN1 + TP1 + FN1 + FP1)\n",
        "print('accuracy = {:.2f}'.format(accuracy))\n",
        "\n",
        "F1 = 2 * (precision * recall) / (precision + recall)\n",
        "print(F1)\n",
        "\n",
        "# Find weighted precision\n",
        "multi_evaluator = MulticlassClassificationEvaluator()\n",
        "weighted_precision = multi_evaluator.evaluate(pred_log_reg, {multi_evaluator.metricName: \"weightedPrecision\"})\n",
        "print('weighted_precision = {:.2f}'.format(weighted_precision))\n",
        "\n",
        "# Find AUC\n",
        "binary_evaluator = BinaryClassificationEvaluator()\n",
        "auc = binary_evaluator.evaluate(pred_log_reg, {binary_evaluator.metricName: \"areaUnderROC\"})\n",
        "print('AUC = {:.2f}'.format(auc))"
      ]
    },
    {
      "cell_type": "markdown",
      "source": [
        "## Random Forest"
      ],
      "metadata": {
        "id": "aYskwOJWAcJc"
      },
      "id": "aYskwOJWAcJc"
    },
    {
      "cell_type": "code",
      "source": [
        "from pyspark.ml import Pipeline\n",
        "from pyspark.ml.regression import RandomForestRegressor\n",
        "from pyspark.ml.feature import VectorIndexer\n",
        "from pyspark.ml.evaluation import RegressionEvaluator\n",
        "\n",
        "# Converting it to a DataFrame.\n",
        "RF_data = flight_assembler\n",
        "\n",
        "# Automatically identify and index categorical features.\n",
        "# Set maxCategories so features with > 4 distinct values are treated as continuous.\n",
        "featureIndexer =VectorIndexer(inputCol=\"features\", outputCol=\"indexedFeatures\", maxCategories=4).fit(RF_data)\n",
        "\n",
        "# Split the data into training and test sets in the 70-30 ratio respectively\n",
        "(RF_train, RF_test) = RF_data.randomSplit([0.7, 0.3])\n",
        "\n",
        "# Train a RandomForest model.\n",
        "rf = RandomForestRegressor(featuresCol=\"indexedFeatures\")\n",
        "\n",
        "# Chain indexer and forest in a Pipeline\n",
        "pipeline = Pipeline(stages=[featureIndexer, rf])\n",
        "\n",
        "#The below code also runs the indexers and trains the model\n",
        "model = pipeline.fit(RF_train)\n",
        "\n",
        "# making predictions\n",
        "RF_pred = model.transform(RF_test)\n",
        "\n",
        "# Selecting rows to display\n",
        "RF_pred.select(\"prediction\", \"label\", \"features\").show(5)\n",
        "\n",
        "# Taking prediction and true label and compute test error\n",
        "evaluator = RegressionEvaluator(labelCol=\"label\", predictionCol=\"prediction\", metricName=\"rmse\")\n",
        "rmse = evaluator.evaluate(RF_pred)\n",
        "print(\"Root Mean Squared Error (RMSE) on test data = %g\" % rmse)"
      ],
      "metadata": {
        "id": "AH1rokdCAWtt",
        "colab": {
          "base_uri": "https://localhost:8080/"
        },
        "outputId": "e673e0b7-f76e-49bd-854b-ba7e508ab823"
      },
      "id": "AH1rokdCAWtt",
      "execution_count": null,
      "outputs": [
        {
          "output_type": "stream",
          "name": "stdout",
          "text": [
            "+------------------+-----+--------------------+\n",
            "|        prediction|label|            features|\n",
            "+------------------+-----+--------------------+\n",
            "|0.5625121603238583|    1|[0.0,1.0,2.0,1.0,...|\n",
            "|0.5676846689495693|    0|[0.0,1.0,2.0,1.0,...|\n",
            "|0.6493864675296191|    0|[0.0,1.0,2.0,1.0,...|\n",
            "|0.7049749199684863|    1|[0.0,1.0,2.0,1.0,...|\n",
            "|0.7023850773601166|    1|[0.0,1.0,2.0,1.0,...|\n",
            "+------------------+-----+--------------------+\n",
            "only showing top 5 rows\n",
            "\n",
            "Root Mean Squared Error (RMSE) on test data = 0.471753\n"
          ]
        }
      ]
    },
    {
      "cell_type": "markdown",
      "source": [
        "## Naive Bayes "
      ],
      "metadata": {
        "id": "C0ixG44zA_kk"
      },
      "id": "C0ixG44zA_kk"
    },
    {
      "cell_type": "code",
      "source": [
        "from pyspark.ml.classification import NaiveBayes\n",
        "from pyspark.ml.evaluation import MulticlassClassificationEvaluator\n",
        "# Creating the trainer and set its parameters\n",
        "naive_bayes = NaiveBayes(smoothing=1.0, modelType=\"multinomial\")\n",
        "\n",
        "# Train model\n",
        "nb_model = naive_bayes.fit(train_data)\n",
        "\n",
        "# Rows to display\n",
        "nb_pred = nb_model.transform(test_data)\n",
        "nb_pred.show()\n",
        "\n",
        "# Computing accuracy on the test set\n",
        "evaluator = MulticlassClassificationEvaluator(labelCol=\"label\", predictionCol=\"prediction\", metricName=\"accuracy\")\n",
        "accuracy = evaluator.evaluate(nb_pred)\n",
        "print(\"Test set accuracy = \" + str(accuracy))"
      ],
      "metadata": {
        "id": "8rQ74xT2-De_",
        "colab": {
          "base_uri": "https://localhost:8080/"
        },
        "outputId": "888e7f4b-2be5-46f3-f54e-71ce3fed8d17"
      },
      "id": "8rQ74xT2-De_",
      "execution_count": null,
      "outputs": [
        {
          "output_type": "stream",
          "name": "stdout",
          "text": [
            "+-----+----+-----------+----------+------+------+---------------+-----+-----------+-----+-----------+----------+--------------------+--------------------+--------------------+----------+\n",
            "|Month|Date|Day of Week|Airline_ID|Origin|depart|Flight_Duration|Delay|Distance_km|label|airline_idx|origin_idx|            features|       rawPrediction|         probability|prediction|\n",
            "+-----+----+-----------+----------+------+------+---------------+-----+-----------+-----+-----------+----------+--------------------+--------------------+--------------------+----------+\n",
            "|    0|   1|          2|        AA|   JFK|   9.0|            385|  -11|     3983.0|    0|        1.0|       2.0|[0.0,1.0,2.0,1.0,...|[-1505.4802112244...|[1.08462806877391...|       1.0|\n",
            "|    0|   1|          2|        AA|   JFK| 14.92|            245|    6|     2239.0|    0|        1.0|       2.0|[0.0,1.0,2.0,1.0,...|[-977.21772598987...|[0.00324534372163...|       1.0|\n",
            "|    0|   1|          2|        AA|   JFK| 15.75|            185|   16|     1519.0|    1|        1.0|       2.0|[0.0,1.0,2.0,1.0,...|[-746.24960478391...|[0.03317418822530...|       1.0|\n",
            "|    0|   1|          2|        AA|   JFK|  17.0|            379|  -10|     3983.0|    0|        1.0|       2.0|[0.0,1.0,2.0,1.0,...|[-1529.3484908524...|[9.50732771470180...|       1.0|\n",
            "|    0|   1|          2|        AA|   LGA|   6.5|            240|   40|     2235.0|    1|        1.0|       3.0|[0.0,1.0,2.0,1.0,...|[-931.51152424950...|[0.00537563922841...|       1.0|\n",
            "|    0|   1|          2|        AA|   LGA|  10.5|            215|   36|     1904.0|    1|        1.0|       3.0|[0.0,1.0,2.0,1.0,...|[-848.64193216745...|[0.01542572295737...|       1.0|\n",
            "|    0|   1|          2|        AA|   LGA| 17.08|            190|   24|     1765.0|    1|        1.0|       3.0|[0.0,1.0,2.0,1.0,...|[-802.88181104091...|[0.02034760641939...|       1.0|\n",
            "|    0|   1|          2|        AA|   LGA|  20.0|            150|   64|     1180.0|    1|        1.0|       3.0|[0.0,1.0,2.0,1.0,...|[-646.57359489682...|[0.12825195894007...|       1.0|\n",
            "|    0|   1|          2|        AA|   OGG| 15.33|            310|  173|     4001.0|    1|        1.0|       7.0|[0.0,1.0,2.0,1.0,...|[-1394.0415008552...|[4.76649719013558...|       1.0|\n",
            "|    0|   1|          2|        AA|   OGG| 18.08|            420|   -6|     5972.0|    0|        1.0|       7.0|[0.0,1.0,2.0,1.0,...|[-1922.0205985597...|[4.69586874532364...|       1.0|\n",
            "|    0|   1|          2|        AA|   OGG| 22.25|            300|   10|     4001.0|    1|        1.0|       7.0|[0.0,1.0,2.0,1.0,...|[-1403.3227208026...|[4.09673790997222...|       1.0|\n",
            "|    0|   1|          2|        AA|   ORD|   6.0|            120|   21|     1180.0|    1|        1.0|       0.0|[0.0,1.0,2.0,1.0,...|[-489.11096926497...|[0.03479803674538...|       1.0|\n",
            "|    0|   1|          2|        AA|   ORD|  7.75|            155|   21|     1429.0|    1|        1.0|       0.0|[0.0,1.0,2.0,1.0,...|[-612.34402951377...|[0.01715909105503...|       1.0|\n",
            "|    0|   1|          2|        AA|   ORD|  7.83|            275|   40|     3335.0|    1|        1.0|       0.0|[0.0,1.0,2.0,1.0,...|[-1142.8438229808...|[2.46966447432780...|       1.0|\n",
            "|    0|   1|          2|        AA|   ORD|  8.42|            155|   83|     1617.0|    1|        1.0|       0.0|[0.0,1.0,2.0,1.0,...|[-639.85280454123...|[0.00820914053014...|       1.0|\n",
            "|    0|   1|          2|        AA|   ORD|   9.0|            175|   50|     1841.0|    1|        1.0|       0.0|[0.0,1.0,2.0,1.0,...|[-718.84614004595...|[0.00396818568448...|       1.0|\n",
            "|    0|   1|          2|        AA|   ORD|  9.33|            150|   22|     1291.0|    1|        1.0|       0.0|[0.0,1.0,2.0,1.0,...|[-590.19034499581...|[0.02762481071609...|       1.0|\n",
            "|    0|   1|          2|        AA|   ORD|  9.67|             85|   48|      649.0|    1|        1.0|       0.0|[0.0,1.0,2.0,1.0,...|[-355.16947457065...|[0.17560477407701...|       1.0|\n",
            "|    0|   1|          2|        AA|   ORD|  9.67|            175|   24|     1926.0|    1|        1.0|       0.0|[0.0,1.0,2.0,1.0,...|[-733.02927734850...|[0.00282388053261...|       1.0|\n",
            "|    0|   1|          2|        AA|   ORD|  9.67|            220|  114|     2313.0|    1|        1.0|       0.0|[0.0,1.0,2.0,1.0,...|[-889.42133516642...|[8.77015117405220...|       1.0|\n",
            "+-----+----+-----------+----------+------+------+---------------+-----+-----------+-----+-----------+----------+--------------------+--------------------+--------------------+----------+\n",
            "only showing top 20 rows\n",
            "\n",
            "Test set accuracy = 0.5483962422196162\n"
          ]
        }
      ]
    },
    {
      "cell_type": "code",
      "source": [
        "nb_pred.groupBy('label', 'prediction').count().show()\n",
        "# Calculate the True Negative, True Positive, False Positive, False Negative of the confusion matrix\n",
        "TN2 = nb_pred.filter('prediction = 0 AND label = prediction').count()\n",
        "TP2 = nb_pred.filter('prediction = 1 AND label = prediction').count()\n",
        "FN2 = nb_pred.filter('prediction = 0 AND label != prediction').count()\n",
        "FP2 = nb_pred.filter('prediction = 1 AND label != prediction').count()\n",
        "\n",
        "# Calculating precision and recall\n",
        "precision = TP2 / (TP2 + FP2)\n",
        "recall = TP2 / (TP2 + FN2)\n",
        "print('precision = {:.2f}\\nrecall    = {:.2f}'.format(precision, recall))\n",
        "\n",
        "# Calculating accuracy and F1-score\n",
        "accuracy = (TN2 + TP2) / (TN2 + TP2 + FN2 + FP2)\n",
        "print('accuracy = {:.2f}'.format(accuracy))\n",
        "\n",
        "F1 = 2 * (precision * recall) / (precision + recall)\n",
        "print(F1)"
      ],
      "metadata": {
        "colab": {
          "base_uri": "https://localhost:8080/"
        },
        "id": "dRDdUW_ua-WC",
        "outputId": "47971b6b-dba4-4f5e-9728-21e91691696b"
      },
      "id": "dRDdUW_ua-WC",
      "execution_count": null,
      "outputs": [
        {
          "output_type": "stream",
          "name": "stdout",
          "text": [
            "+-----+----------+-----+\n",
            "|label|prediction|count|\n",
            "+-----+----------+-----+\n",
            "|    1|       0.0|21505|\n",
            "|    0|       0.0|22197|\n",
            "|    1|       1.0|20358|\n",
            "|    0|       1.0|13539|\n",
            "+-----+----------+-----+\n",
            "\n",
            "precision = 0.60\n",
            "recall    = 0.49\n",
            "accuracy = 0.55\n",
            "0.5374340021119324\n"
          ]
        }
      ]
    }
  ],
  "metadata": {
    "kernelspec": {
      "display_name": "Python 3 (ipykernel)",
      "language": "python",
      "name": "python3"
    },
    "language_info": {
      "codemirror_mode": {
        "name": "ipython",
        "version": 3
      },
      "file_extension": ".py",
      "mimetype": "text/x-python",
      "name": "python",
      "nbconvert_exporter": "python",
      "pygments_lexer": "ipython3",
      "version": "3.10.6"
    },
    "colab": {
      "provenance": []
    }
  },
  "nbformat": 4,
  "nbformat_minor": 5
}