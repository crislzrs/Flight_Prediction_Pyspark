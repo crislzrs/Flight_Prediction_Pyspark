{
  "nbformat": 4,
  "nbformat_minor": 0,
  "metadata": {
    "colab": {
      "provenance": []
    },
    "kernelspec": {
      "name": "python3",
      "display_name": "Python 3"
    },
    "language_info": {
      "name": "python"
    }
  },
  "cells": [
    {
      "cell_type": "markdown",
      "source": [
        "Pyspark Installation"
      ],
      "metadata": {
        "id": "Be3Ho9e1H3xe"
      }
    },
    {
      "cell_type": "code",
      "source": [
        "!pip install pyspark\n",
        "!pip install findspark"
      ],
      "metadata": {
        "colab": {
          "base_uri": "https://localhost:8080/"
        },
        "id": "Vff4aBX84bM-",
        "outputId": "4c248d8a-11eb-428a-9c7e-4efa68ffa13f"
      },
      "execution_count": 1,
      "outputs": [
        {
          "output_type": "stream",
          "name": "stdout",
          "text": [
            "Looking in indexes: https://pypi.org/simple, https://us-python.pkg.dev/colab-wheels/public/simple/\n",
            "Collecting pyspark\n",
            "  Downloading pyspark-3.3.1.tar.gz (281.4 MB)\n",
            "\u001b[K     |████████████████████████████████| 281.4 MB 26 kB/s \n",
            "\u001b[?25hCollecting py4j==0.10.9.5\n",
            "  Downloading py4j-0.10.9.5-py2.py3-none-any.whl (199 kB)\n",
            "\u001b[K     |████████████████████████████████| 199 kB 62.2 MB/s \n",
            "\u001b[?25hBuilding wheels for collected packages: pyspark\n",
            "  Building wheel for pyspark (setup.py) ... \u001b[?25l\u001b[?25hdone\n",
            "  Created wheel for pyspark: filename=pyspark-3.3.1-py2.py3-none-any.whl size=281845512 sha256=64cd9ca4271ce6750831bf13a41cf4377e0e997766ecb07c6b0563f07c8de693\n",
            "  Stored in directory: /root/.cache/pip/wheels/43/dc/11/ec201cd671da62fa9c5cc77078235e40722170ceba231d7598\n",
            "Successfully built pyspark\n",
            "Installing collected packages: py4j, pyspark\n",
            "Successfully installed py4j-0.10.9.5 pyspark-3.3.1\n",
            "Looking in indexes: https://pypi.org/simple, https://us-python.pkg.dev/colab-wheels/public/simple/\n",
            "Collecting findspark\n",
            "  Downloading findspark-2.0.1-py2.py3-none-any.whl (4.4 kB)\n",
            "Installing collected packages: findspark\n",
            "Successfully installed findspark-2.0.1\n"
          ]
        }
      ]
    },
    {
      "cell_type": "markdown",
      "source": [
        "Importing the necesaary Libraries"
      ],
      "metadata": {
        "id": "REAa_przH9NH"
      }
    },
    {
      "cell_type": "code",
      "execution_count": 2,
      "metadata": {
        "id": "7U-vVx-_4LS1"
      },
      "outputs": [],
      "source": [
        "from pyspark import SparkContext\n",
        "from pyspark.sql.session import SparkSession\n",
        "from pyspark.sql.types import *\n",
        "from pyspark.sql.functions import *\n",
        "from pyspark.ml.classification import LogisticRegression\n",
        "from pyspark.ml.feature import HashingTF, Tokenizer, StopWordsRemover\n",
        "import pandas as pd\n",
        "import matplotlib.pyplot as plt"
      ]
    },
    {
      "cell_type": "markdown",
      "source": [
        "Creating the Local Spark Session"
      ],
      "metadata": {
        "id": "sWRosbWdInjX"
      }
    },
    {
      "cell_type": "code",
      "source": [
        "spark_session = SparkSession.builder.master(\"local[1]\").appName(\"temp\").getOrCreate()"
      ],
      "metadata": {
        "id": "DrNUv-gZ4u6f"
      },
      "execution_count": 21,
      "outputs": []
    },
    {
      "cell_type": "markdown",
      "source": [
        "Uploading the CSV File"
      ],
      "metadata": {
        "id": "R0y0AoVGIwm6"
      }
    },
    {
      "cell_type": "code",
      "source": [
        "from google.colab import files\n",
        "uploaded = files.upload()"
      ],
      "metadata": {
        "colab": {
          "base_uri": "https://localhost:8080/",
          "height": 73
        },
        "id": "Yp-mgGGE46ww",
        "outputId": "cd09f196-fdd7-40e9-bccd-9cee81c6ce0b"
      },
      "execution_count": 3,
      "outputs": [
        {
          "output_type": "display_data",
          "data": {
            "text/plain": [
              "<IPython.core.display.HTML object>"
            ],
            "text/html": [
              "\n",
              "     <input type=\"file\" id=\"files-5082c7ea-ac5a-418b-9600-248a1525bcb5\" name=\"files[]\" multiple disabled\n",
              "        style=\"border:none\" />\n",
              "     <output id=\"result-5082c7ea-ac5a-418b-9600-248a1525bcb5\">\n",
              "      Upload widget is only available when the cell has been executed in the\n",
              "      current browser session. Please rerun this cell to enable.\n",
              "      </output>\n",
              "      <script>// Copyright 2017 Google LLC\n",
              "//\n",
              "// Licensed under the Apache License, Version 2.0 (the \"License\");\n",
              "// you may not use this file except in compliance with the License.\n",
              "// You may obtain a copy of the License at\n",
              "//\n",
              "//      http://www.apache.org/licenses/LICENSE-2.0\n",
              "//\n",
              "// Unless required by applicable law or agreed to in writing, software\n",
              "// distributed under the License is distributed on an \"AS IS\" BASIS,\n",
              "// WITHOUT WARRANTIES OR CONDITIONS OF ANY KIND, either express or implied.\n",
              "// See the License for the specific language governing permissions and\n",
              "// limitations under the License.\n",
              "\n",
              "/**\n",
              " * @fileoverview Helpers for google.colab Python module.\n",
              " */\n",
              "(function(scope) {\n",
              "function span(text, styleAttributes = {}) {\n",
              "  const element = document.createElement('span');\n",
              "  element.textContent = text;\n",
              "  for (const key of Object.keys(styleAttributes)) {\n",
              "    element.style[key] = styleAttributes[key];\n",
              "  }\n",
              "  return element;\n",
              "}\n",
              "\n",
              "// Max number of bytes which will be uploaded at a time.\n",
              "const MAX_PAYLOAD_SIZE = 100 * 1024;\n",
              "\n",
              "function _uploadFiles(inputId, outputId) {\n",
              "  const steps = uploadFilesStep(inputId, outputId);\n",
              "  const outputElement = document.getElementById(outputId);\n",
              "  // Cache steps on the outputElement to make it available for the next call\n",
              "  // to uploadFilesContinue from Python.\n",
              "  outputElement.steps = steps;\n",
              "\n",
              "  return _uploadFilesContinue(outputId);\n",
              "}\n",
              "\n",
              "// This is roughly an async generator (not supported in the browser yet),\n",
              "// where there are multiple asynchronous steps and the Python side is going\n",
              "// to poll for completion of each step.\n",
              "// This uses a Promise to block the python side on completion of each step,\n",
              "// then passes the result of the previous step as the input to the next step.\n",
              "function _uploadFilesContinue(outputId) {\n",
              "  const outputElement = document.getElementById(outputId);\n",
              "  const steps = outputElement.steps;\n",
              "\n",
              "  const next = steps.next(outputElement.lastPromiseValue);\n",
              "  return Promise.resolve(next.value.promise).then((value) => {\n",
              "    // Cache the last promise value to make it available to the next\n",
              "    // step of the generator.\n",
              "    outputElement.lastPromiseValue = value;\n",
              "    return next.value.response;\n",
              "  });\n",
              "}\n",
              "\n",
              "/**\n",
              " * Generator function which is called between each async step of the upload\n",
              " * process.\n",
              " * @param {string} inputId Element ID of the input file picker element.\n",
              " * @param {string} outputId Element ID of the output display.\n",
              " * @return {!Iterable<!Object>} Iterable of next steps.\n",
              " */\n",
              "function* uploadFilesStep(inputId, outputId) {\n",
              "  const inputElement = document.getElementById(inputId);\n",
              "  inputElement.disabled = false;\n",
              "\n",
              "  const outputElement = document.getElementById(outputId);\n",
              "  outputElement.innerHTML = '';\n",
              "\n",
              "  const pickedPromise = new Promise((resolve) => {\n",
              "    inputElement.addEventListener('change', (e) => {\n",
              "      resolve(e.target.files);\n",
              "    });\n",
              "  });\n",
              "\n",
              "  const cancel = document.createElement('button');\n",
              "  inputElement.parentElement.appendChild(cancel);\n",
              "  cancel.textContent = 'Cancel upload';\n",
              "  const cancelPromise = new Promise((resolve) => {\n",
              "    cancel.onclick = () => {\n",
              "      resolve(null);\n",
              "    };\n",
              "  });\n",
              "\n",
              "  // Wait for the user to pick the files.\n",
              "  const files = yield {\n",
              "    promise: Promise.race([pickedPromise, cancelPromise]),\n",
              "    response: {\n",
              "      action: 'starting',\n",
              "    }\n",
              "  };\n",
              "\n",
              "  cancel.remove();\n",
              "\n",
              "  // Disable the input element since further picks are not allowed.\n",
              "  inputElement.disabled = true;\n",
              "\n",
              "  if (!files) {\n",
              "    return {\n",
              "      response: {\n",
              "        action: 'complete',\n",
              "      }\n",
              "    };\n",
              "  }\n",
              "\n",
              "  for (const file of files) {\n",
              "    const li = document.createElement('li');\n",
              "    li.append(span(file.name, {fontWeight: 'bold'}));\n",
              "    li.append(span(\n",
              "        `(${file.type || 'n/a'}) - ${file.size} bytes, ` +\n",
              "        `last modified: ${\n",
              "            file.lastModifiedDate ? file.lastModifiedDate.toLocaleDateString() :\n",
              "                                    'n/a'} - `));\n",
              "    const percent = span('0% done');\n",
              "    li.appendChild(percent);\n",
              "\n",
              "    outputElement.appendChild(li);\n",
              "\n",
              "    const fileDataPromise = new Promise((resolve) => {\n",
              "      const reader = new FileReader();\n",
              "      reader.onload = (e) => {\n",
              "        resolve(e.target.result);\n",
              "      };\n",
              "      reader.readAsArrayBuffer(file);\n",
              "    });\n",
              "    // Wait for the data to be ready.\n",
              "    let fileData = yield {\n",
              "      promise: fileDataPromise,\n",
              "      response: {\n",
              "        action: 'continue',\n",
              "      }\n",
              "    };\n",
              "\n",
              "    // Use a chunked sending to avoid message size limits. See b/62115660.\n",
              "    let position = 0;\n",
              "    do {\n",
              "      const length = Math.min(fileData.byteLength - position, MAX_PAYLOAD_SIZE);\n",
              "      const chunk = new Uint8Array(fileData, position, length);\n",
              "      position += length;\n",
              "\n",
              "      const base64 = btoa(String.fromCharCode.apply(null, chunk));\n",
              "      yield {\n",
              "        response: {\n",
              "          action: 'append',\n",
              "          file: file.name,\n",
              "          data: base64,\n",
              "        },\n",
              "      };\n",
              "\n",
              "      let percentDone = fileData.byteLength === 0 ?\n",
              "          100 :\n",
              "          Math.round((position / fileData.byteLength) * 100);\n",
              "      percent.textContent = `${percentDone}% done`;\n",
              "\n",
              "    } while (position < fileData.byteLength);\n",
              "  }\n",
              "\n",
              "  // All done.\n",
              "  yield {\n",
              "    response: {\n",
              "      action: 'complete',\n",
              "    }\n",
              "  };\n",
              "}\n",
              "\n",
              "scope.google = scope.google || {};\n",
              "scope.google.colab = scope.google.colab || {};\n",
              "scope.google.colab._files = {\n",
              "  _uploadFiles,\n",
              "  _uploadFilesContinue,\n",
              "};\n",
              "})(self);\n",
              "</script> "
            ]
          },
          "metadata": {}
        },
        {
          "output_type": "stream",
          "name": "stdout",
          "text": [
            "Saving Sentiment_Analysis_Dataset.csv to Sentiment_Analysis_Dataset.csv\n"
          ]
        }
      ]
    },
    {
      "cell_type": "code",
      "source": [
        "Airline_df_SA=pd.read_csv('Sentiment_Analysis_Dataset.csv')\n",
        "Airline_df_SA.head()"
      ],
      "metadata": {
        "colab": {
          "base_uri": "https://localhost:8080/",
          "height": 548
        },
        "id": "c6ufaY5vy2XU",
        "outputId": "320e321e-9d21-4681-a803-cac32c0d1a37"
      },
      "execution_count": 6,
      "outputs": [
        {
          "output_type": "execute_result",
          "data": {
            "text/plain": [
              "       tweet_id airline_sentiment  airline_sentiment_confidence  \\\n",
              "0  5.700000e+17          negative                        0.6578   \n",
              "1  5.680000e+17          negative                        1.0000   \n",
              "2  5.700000e+17          negative                        1.0000   \n",
              "3  5.700000e+17          negative                        1.0000   \n",
              "4  5.700000e+17          positive                        0.6498   \n",
              "\n",
              "            negativereason  negativereason_confidence     airline  \\\n",
              "0  Flight Booking Problems                     0.6578    American   \n",
              "1  Flight Booking Problems                     0.3603  US Airways   \n",
              "2  Flight Booking Problems                     1.0000      United   \n",
              "3             Lost Luggage                     1.0000      United   \n",
              "4                      NaN                        NaN    American   \n",
              "\n",
              "  airline_sentiment_gold         name negativereason_gold  retweet_count  \\\n",
              "0                    NaN     McKennon                 NaN              0   \n",
              "1                    NaN   jdpletnick                 NaN              1   \n",
              "2                    NaN      ljtypes                 NaN              0   \n",
              "3                    NaN  szymanski_t                 NaN              0   \n",
              "4                    NaN   davidmacho                 NaN              0   \n",
              "\n",
              "                                                text tweet_coord  \\\n",
              "0  @AmericanAir Thanks; but that results in missi...         NaN   \n",
              "1  @USAirways charging $200 2 change a flight is ...         NaN   \n",
              "2  @united tried to book a flight IAH-MNL departi...         NaN   \n",
              "3  @United DO NOT FLY UNITED WITH CHECKED BAGGAGE...         NaN   \n",
              "4                    @AmericanAir Thank you so much.         NaN   \n",
              "\n",
              "     tweet_created           tweet_location               user_timezone  \n",
              "0   2/23/2015 6:47                      NaN      Atlantic Time (Canada)  \n",
              "1  2/17/2015 11:43              Newtown; Pa                       Quito  \n",
              "2  2/22/2015 21:01                   H-town                         NaN  \n",
              "3   2/22/2015 6:29                      NaN  Eastern Time (US & Canada)  \n",
              "4  2/23/2015 13:27  ??T: 41.498967;2.186957                      Madrid  "
            ],
            "text/html": [
              "\n",
              "  <div id=\"df-01db7b79-de4a-4367-8ad6-33e862ae338c\">\n",
              "    <div class=\"colab-df-container\">\n",
              "      <div>\n",
              "<style scoped>\n",
              "    .dataframe tbody tr th:only-of-type {\n",
              "        vertical-align: middle;\n",
              "    }\n",
              "\n",
              "    .dataframe tbody tr th {\n",
              "        vertical-align: top;\n",
              "    }\n",
              "\n",
              "    .dataframe thead th {\n",
              "        text-align: right;\n",
              "    }\n",
              "</style>\n",
              "<table border=\"1\" class=\"dataframe\">\n",
              "  <thead>\n",
              "    <tr style=\"text-align: right;\">\n",
              "      <th></th>\n",
              "      <th>tweet_id</th>\n",
              "      <th>airline_sentiment</th>\n",
              "      <th>airline_sentiment_confidence</th>\n",
              "      <th>negativereason</th>\n",
              "      <th>negativereason_confidence</th>\n",
              "      <th>airline</th>\n",
              "      <th>airline_sentiment_gold</th>\n",
              "      <th>name</th>\n",
              "      <th>negativereason_gold</th>\n",
              "      <th>retweet_count</th>\n",
              "      <th>text</th>\n",
              "      <th>tweet_coord</th>\n",
              "      <th>tweet_created</th>\n",
              "      <th>tweet_location</th>\n",
              "      <th>user_timezone</th>\n",
              "    </tr>\n",
              "  </thead>\n",
              "  <tbody>\n",
              "    <tr>\n",
              "      <th>0</th>\n",
              "      <td>5.700000e+17</td>\n",
              "      <td>negative</td>\n",
              "      <td>0.6578</td>\n",
              "      <td>Flight Booking Problems</td>\n",
              "      <td>0.6578</td>\n",
              "      <td>American</td>\n",
              "      <td>NaN</td>\n",
              "      <td>McKennon</td>\n",
              "      <td>NaN</td>\n",
              "      <td>0</td>\n",
              "      <td>@AmericanAir Thanks; but that results in missi...</td>\n",
              "      <td>NaN</td>\n",
              "      <td>2/23/2015 6:47</td>\n",
              "      <td>NaN</td>\n",
              "      <td>Atlantic Time (Canada)</td>\n",
              "    </tr>\n",
              "    <tr>\n",
              "      <th>1</th>\n",
              "      <td>5.680000e+17</td>\n",
              "      <td>negative</td>\n",
              "      <td>1.0000</td>\n",
              "      <td>Flight Booking Problems</td>\n",
              "      <td>0.3603</td>\n",
              "      <td>US Airways</td>\n",
              "      <td>NaN</td>\n",
              "      <td>jdpletnick</td>\n",
              "      <td>NaN</td>\n",
              "      <td>1</td>\n",
              "      <td>@USAirways charging $200 2 change a flight is ...</td>\n",
              "      <td>NaN</td>\n",
              "      <td>2/17/2015 11:43</td>\n",
              "      <td>Newtown; Pa</td>\n",
              "      <td>Quito</td>\n",
              "    </tr>\n",
              "    <tr>\n",
              "      <th>2</th>\n",
              "      <td>5.700000e+17</td>\n",
              "      <td>negative</td>\n",
              "      <td>1.0000</td>\n",
              "      <td>Flight Booking Problems</td>\n",
              "      <td>1.0000</td>\n",
              "      <td>United</td>\n",
              "      <td>NaN</td>\n",
              "      <td>ljtypes</td>\n",
              "      <td>NaN</td>\n",
              "      <td>0</td>\n",
              "      <td>@united tried to book a flight IAH-MNL departi...</td>\n",
              "      <td>NaN</td>\n",
              "      <td>2/22/2015 21:01</td>\n",
              "      <td>H-town</td>\n",
              "      <td>NaN</td>\n",
              "    </tr>\n",
              "    <tr>\n",
              "      <th>3</th>\n",
              "      <td>5.700000e+17</td>\n",
              "      <td>negative</td>\n",
              "      <td>1.0000</td>\n",
              "      <td>Lost Luggage</td>\n",
              "      <td>1.0000</td>\n",
              "      <td>United</td>\n",
              "      <td>NaN</td>\n",
              "      <td>szymanski_t</td>\n",
              "      <td>NaN</td>\n",
              "      <td>0</td>\n",
              "      <td>@United DO NOT FLY UNITED WITH CHECKED BAGGAGE...</td>\n",
              "      <td>NaN</td>\n",
              "      <td>2/22/2015 6:29</td>\n",
              "      <td>NaN</td>\n",
              "      <td>Eastern Time (US &amp; Canada)</td>\n",
              "    </tr>\n",
              "    <tr>\n",
              "      <th>4</th>\n",
              "      <td>5.700000e+17</td>\n",
              "      <td>positive</td>\n",
              "      <td>0.6498</td>\n",
              "      <td>NaN</td>\n",
              "      <td>NaN</td>\n",
              "      <td>American</td>\n",
              "      <td>NaN</td>\n",
              "      <td>davidmacho</td>\n",
              "      <td>NaN</td>\n",
              "      <td>0</td>\n",
              "      <td>@AmericanAir Thank you so much.</td>\n",
              "      <td>NaN</td>\n",
              "      <td>2/23/2015 13:27</td>\n",
              "      <td>??T: 41.498967;2.186957</td>\n",
              "      <td>Madrid</td>\n",
              "    </tr>\n",
              "  </tbody>\n",
              "</table>\n",
              "</div>\n",
              "      <button class=\"colab-df-convert\" onclick=\"convertToInteractive('df-01db7b79-de4a-4367-8ad6-33e862ae338c')\"\n",
              "              title=\"Convert this dataframe to an interactive table.\"\n",
              "              style=\"display:none;\">\n",
              "        \n",
              "  <svg xmlns=\"http://www.w3.org/2000/svg\" height=\"24px\"viewBox=\"0 0 24 24\"\n",
              "       width=\"24px\">\n",
              "    <path d=\"M0 0h24v24H0V0z\" fill=\"none\"/>\n",
              "    <path d=\"M18.56 5.44l.94 2.06.94-2.06 2.06-.94-2.06-.94-.94-2.06-.94 2.06-2.06.94zm-11 1L8.5 8.5l.94-2.06 2.06-.94-2.06-.94L8.5 2.5l-.94 2.06-2.06.94zm10 10l.94 2.06.94-2.06 2.06-.94-2.06-.94-.94-2.06-.94 2.06-2.06.94z\"/><path d=\"M17.41 7.96l-1.37-1.37c-.4-.4-.92-.59-1.43-.59-.52 0-1.04.2-1.43.59L10.3 9.45l-7.72 7.72c-.78.78-.78 2.05 0 2.83L4 21.41c.39.39.9.59 1.41.59.51 0 1.02-.2 1.41-.59l7.78-7.78 2.81-2.81c.8-.78.8-2.07 0-2.86zM5.41 20L4 18.59l7.72-7.72 1.47 1.35L5.41 20z\"/>\n",
              "  </svg>\n",
              "      </button>\n",
              "      \n",
              "  <style>\n",
              "    .colab-df-container {\n",
              "      display:flex;\n",
              "      flex-wrap:wrap;\n",
              "      gap: 12px;\n",
              "    }\n",
              "\n",
              "    .colab-df-convert {\n",
              "      background-color: #E8F0FE;\n",
              "      border: none;\n",
              "      border-radius: 50%;\n",
              "      cursor: pointer;\n",
              "      display: none;\n",
              "      fill: #1967D2;\n",
              "      height: 32px;\n",
              "      padding: 0 0 0 0;\n",
              "      width: 32px;\n",
              "    }\n",
              "\n",
              "    .colab-df-convert:hover {\n",
              "      background-color: #E2EBFA;\n",
              "      box-shadow: 0px 1px 2px rgba(60, 64, 67, 0.3), 0px 1px 3px 1px rgba(60, 64, 67, 0.15);\n",
              "      fill: #174EA6;\n",
              "    }\n",
              "\n",
              "    [theme=dark] .colab-df-convert {\n",
              "      background-color: #3B4455;\n",
              "      fill: #D2E3FC;\n",
              "    }\n",
              "\n",
              "    [theme=dark] .colab-df-convert:hover {\n",
              "      background-color: #434B5C;\n",
              "      box-shadow: 0px 1px 3px 1px rgba(0, 0, 0, 0.15);\n",
              "      filter: drop-shadow(0px 1px 2px rgba(0, 0, 0, 0.3));\n",
              "      fill: #FFFFFF;\n",
              "    }\n",
              "  </style>\n",
              "\n",
              "      <script>\n",
              "        const buttonEl =\n",
              "          document.querySelector('#df-01db7b79-de4a-4367-8ad6-33e862ae338c button.colab-df-convert');\n",
              "        buttonEl.style.display =\n",
              "          google.colab.kernel.accessAllowed ? 'block' : 'none';\n",
              "\n",
              "        async function convertToInteractive(key) {\n",
              "          const element = document.querySelector('#df-01db7b79-de4a-4367-8ad6-33e862ae338c');\n",
              "          const dataTable =\n",
              "            await google.colab.kernel.invokeFunction('convertToInteractive',\n",
              "                                                     [key], {});\n",
              "          if (!dataTable) return;\n",
              "\n",
              "          const docLinkHtml = 'Like what you see? Visit the ' +\n",
              "            '<a target=\"_blank\" href=https://colab.research.google.com/notebooks/data_table.ipynb>data table notebook</a>'\n",
              "            + ' to learn more about interactive tables.';\n",
              "          element.innerHTML = '';\n",
              "          dataTable['output_type'] = 'display_data';\n",
              "          await google.colab.output.renderOutput(dataTable, element);\n",
              "          const docLink = document.createElement('div');\n",
              "          docLink.innerHTML = docLinkHtml;\n",
              "          element.appendChild(docLink);\n",
              "        }\n",
              "      </script>\n",
              "    </div>\n",
              "  </div>\n",
              "  "
            ]
          },
          "metadata": {},
          "execution_count": 6
        }
      ]
    },
    {
      "cell_type": "markdown",
      "source": [
        "Converted the Time stamp to a Simpler Date Form"
      ],
      "metadata": {
        "id": "r-CL1HJuJov8"
      }
    },
    {
      "cell_type": "code",
      "source": [
        "Airline_df_SA['tweet_created'] = pd.to_datetime(Airline_df_SA['tweet_created']).dt.date"
      ],
      "metadata": {
        "id": "xsVnFPvHzVBl"
      },
      "execution_count": 12,
      "outputs": []
    },
    {
      "cell_type": "code",
      "source": [
        "Airline_df_SA['tweet_created'] = pd.to_datetime(Airline_df_SA['tweet_created'])\n",
        "Airline_df_SA.head()"
      ],
      "metadata": {
        "id": "oOrfvXtz0U_m",
        "colab": {
          "base_uri": "https://localhost:8080/",
          "height": 548
        },
        "outputId": "850ecbd0-8e81-4a9d-ad09-2a05fec1ef30"
      },
      "execution_count": 13,
      "outputs": [
        {
          "output_type": "execute_result",
          "data": {
            "text/plain": [
              "       tweet_id airline_sentiment  airline_sentiment_confidence  \\\n",
              "0  5.700000e+17          negative                        0.6578   \n",
              "1  5.680000e+17          negative                        1.0000   \n",
              "2  5.700000e+17          negative                        1.0000   \n",
              "3  5.700000e+17          negative                        1.0000   \n",
              "4  5.700000e+17          positive                        0.6498   \n",
              "\n",
              "            negativereason  negativereason_confidence     airline  \\\n",
              "0  Flight Booking Problems                     0.6578    American   \n",
              "1  Flight Booking Problems                     0.3603  US Airways   \n",
              "2  Flight Booking Problems                     1.0000      United   \n",
              "3             Lost Luggage                     1.0000      United   \n",
              "4                      NaN                        NaN    American   \n",
              "\n",
              "  airline_sentiment_gold         name negativereason_gold  retweet_count  \\\n",
              "0                    NaN     McKennon                 NaN              0   \n",
              "1                    NaN   jdpletnick                 NaN              1   \n",
              "2                    NaN      ljtypes                 NaN              0   \n",
              "3                    NaN  szymanski_t                 NaN              0   \n",
              "4                    NaN   davidmacho                 NaN              0   \n",
              "\n",
              "                                                text tweet_coord  \\\n",
              "0  @AmericanAir Thanks; but that results in missi...         NaN   \n",
              "1  @USAirways charging $200 2 change a flight is ...         NaN   \n",
              "2  @united tried to book a flight IAH-MNL departi...         NaN   \n",
              "3  @United DO NOT FLY UNITED WITH CHECKED BAGGAGE...         NaN   \n",
              "4                    @AmericanAir Thank you so much.         NaN   \n",
              "\n",
              "  tweet_created           tweet_location               user_timezone  \n",
              "0    2015-02-23                      NaN      Atlantic Time (Canada)  \n",
              "1    2015-02-17              Newtown; Pa                       Quito  \n",
              "2    2015-02-22                   H-town                         NaN  \n",
              "3    2015-02-22                      NaN  Eastern Time (US & Canada)  \n",
              "4    2015-02-23  ??T: 41.498967;2.186957                      Madrid  "
            ],
            "text/html": [
              "\n",
              "  <div id=\"df-c3f46485-33aa-4929-a50b-165fd2ae39f6\">\n",
              "    <div class=\"colab-df-container\">\n",
              "      <div>\n",
              "<style scoped>\n",
              "    .dataframe tbody tr th:only-of-type {\n",
              "        vertical-align: middle;\n",
              "    }\n",
              "\n",
              "    .dataframe tbody tr th {\n",
              "        vertical-align: top;\n",
              "    }\n",
              "\n",
              "    .dataframe thead th {\n",
              "        text-align: right;\n",
              "    }\n",
              "</style>\n",
              "<table border=\"1\" class=\"dataframe\">\n",
              "  <thead>\n",
              "    <tr style=\"text-align: right;\">\n",
              "      <th></th>\n",
              "      <th>tweet_id</th>\n",
              "      <th>airline_sentiment</th>\n",
              "      <th>airline_sentiment_confidence</th>\n",
              "      <th>negativereason</th>\n",
              "      <th>negativereason_confidence</th>\n",
              "      <th>airline</th>\n",
              "      <th>airline_sentiment_gold</th>\n",
              "      <th>name</th>\n",
              "      <th>negativereason_gold</th>\n",
              "      <th>retweet_count</th>\n",
              "      <th>text</th>\n",
              "      <th>tweet_coord</th>\n",
              "      <th>tweet_created</th>\n",
              "      <th>tweet_location</th>\n",
              "      <th>user_timezone</th>\n",
              "    </tr>\n",
              "  </thead>\n",
              "  <tbody>\n",
              "    <tr>\n",
              "      <th>0</th>\n",
              "      <td>5.700000e+17</td>\n",
              "      <td>negative</td>\n",
              "      <td>0.6578</td>\n",
              "      <td>Flight Booking Problems</td>\n",
              "      <td>0.6578</td>\n",
              "      <td>American</td>\n",
              "      <td>NaN</td>\n",
              "      <td>McKennon</td>\n",
              "      <td>NaN</td>\n",
              "      <td>0</td>\n",
              "      <td>@AmericanAir Thanks; but that results in missi...</td>\n",
              "      <td>NaN</td>\n",
              "      <td>2015-02-23</td>\n",
              "      <td>NaN</td>\n",
              "      <td>Atlantic Time (Canada)</td>\n",
              "    </tr>\n",
              "    <tr>\n",
              "      <th>1</th>\n",
              "      <td>5.680000e+17</td>\n",
              "      <td>negative</td>\n",
              "      <td>1.0000</td>\n",
              "      <td>Flight Booking Problems</td>\n",
              "      <td>0.3603</td>\n",
              "      <td>US Airways</td>\n",
              "      <td>NaN</td>\n",
              "      <td>jdpletnick</td>\n",
              "      <td>NaN</td>\n",
              "      <td>1</td>\n",
              "      <td>@USAirways charging $200 2 change a flight is ...</td>\n",
              "      <td>NaN</td>\n",
              "      <td>2015-02-17</td>\n",
              "      <td>Newtown; Pa</td>\n",
              "      <td>Quito</td>\n",
              "    </tr>\n",
              "    <tr>\n",
              "      <th>2</th>\n",
              "      <td>5.700000e+17</td>\n",
              "      <td>negative</td>\n",
              "      <td>1.0000</td>\n",
              "      <td>Flight Booking Problems</td>\n",
              "      <td>1.0000</td>\n",
              "      <td>United</td>\n",
              "      <td>NaN</td>\n",
              "      <td>ljtypes</td>\n",
              "      <td>NaN</td>\n",
              "      <td>0</td>\n",
              "      <td>@united tried to book a flight IAH-MNL departi...</td>\n",
              "      <td>NaN</td>\n",
              "      <td>2015-02-22</td>\n",
              "      <td>H-town</td>\n",
              "      <td>NaN</td>\n",
              "    </tr>\n",
              "    <tr>\n",
              "      <th>3</th>\n",
              "      <td>5.700000e+17</td>\n",
              "      <td>negative</td>\n",
              "      <td>1.0000</td>\n",
              "      <td>Lost Luggage</td>\n",
              "      <td>1.0000</td>\n",
              "      <td>United</td>\n",
              "      <td>NaN</td>\n",
              "      <td>szymanski_t</td>\n",
              "      <td>NaN</td>\n",
              "      <td>0</td>\n",
              "      <td>@United DO NOT FLY UNITED WITH CHECKED BAGGAGE...</td>\n",
              "      <td>NaN</td>\n",
              "      <td>2015-02-22</td>\n",
              "      <td>NaN</td>\n",
              "      <td>Eastern Time (US &amp; Canada)</td>\n",
              "    </tr>\n",
              "    <tr>\n",
              "      <th>4</th>\n",
              "      <td>5.700000e+17</td>\n",
              "      <td>positive</td>\n",
              "      <td>0.6498</td>\n",
              "      <td>NaN</td>\n",
              "      <td>NaN</td>\n",
              "      <td>American</td>\n",
              "      <td>NaN</td>\n",
              "      <td>davidmacho</td>\n",
              "      <td>NaN</td>\n",
              "      <td>0</td>\n",
              "      <td>@AmericanAir Thank you so much.</td>\n",
              "      <td>NaN</td>\n",
              "      <td>2015-02-23</td>\n",
              "      <td>??T: 41.498967;2.186957</td>\n",
              "      <td>Madrid</td>\n",
              "    </tr>\n",
              "  </tbody>\n",
              "</table>\n",
              "</div>\n",
              "      <button class=\"colab-df-convert\" onclick=\"convertToInteractive('df-c3f46485-33aa-4929-a50b-165fd2ae39f6')\"\n",
              "              title=\"Convert this dataframe to an interactive table.\"\n",
              "              style=\"display:none;\">\n",
              "        \n",
              "  <svg xmlns=\"http://www.w3.org/2000/svg\" height=\"24px\"viewBox=\"0 0 24 24\"\n",
              "       width=\"24px\">\n",
              "    <path d=\"M0 0h24v24H0V0z\" fill=\"none\"/>\n",
              "    <path d=\"M18.56 5.44l.94 2.06.94-2.06 2.06-.94-2.06-.94-.94-2.06-.94 2.06-2.06.94zm-11 1L8.5 8.5l.94-2.06 2.06-.94-2.06-.94L8.5 2.5l-.94 2.06-2.06.94zm10 10l.94 2.06.94-2.06 2.06-.94-2.06-.94-.94-2.06-.94 2.06-2.06.94z\"/><path d=\"M17.41 7.96l-1.37-1.37c-.4-.4-.92-.59-1.43-.59-.52 0-1.04.2-1.43.59L10.3 9.45l-7.72 7.72c-.78.78-.78 2.05 0 2.83L4 21.41c.39.39.9.59 1.41.59.51 0 1.02-.2 1.41-.59l7.78-7.78 2.81-2.81c.8-.78.8-2.07 0-2.86zM5.41 20L4 18.59l7.72-7.72 1.47 1.35L5.41 20z\"/>\n",
              "  </svg>\n",
              "      </button>\n",
              "      \n",
              "  <style>\n",
              "    .colab-df-container {\n",
              "      display:flex;\n",
              "      flex-wrap:wrap;\n",
              "      gap: 12px;\n",
              "    }\n",
              "\n",
              "    .colab-df-convert {\n",
              "      background-color: #E8F0FE;\n",
              "      border: none;\n",
              "      border-radius: 50%;\n",
              "      cursor: pointer;\n",
              "      display: none;\n",
              "      fill: #1967D2;\n",
              "      height: 32px;\n",
              "      padding: 0 0 0 0;\n",
              "      width: 32px;\n",
              "    }\n",
              "\n",
              "    .colab-df-convert:hover {\n",
              "      background-color: #E2EBFA;\n",
              "      box-shadow: 0px 1px 2px rgba(60, 64, 67, 0.3), 0px 1px 3px 1px rgba(60, 64, 67, 0.15);\n",
              "      fill: #174EA6;\n",
              "    }\n",
              "\n",
              "    [theme=dark] .colab-df-convert {\n",
              "      background-color: #3B4455;\n",
              "      fill: #D2E3FC;\n",
              "    }\n",
              "\n",
              "    [theme=dark] .colab-df-convert:hover {\n",
              "      background-color: #434B5C;\n",
              "      box-shadow: 0px 1px 3px 1px rgba(0, 0, 0, 0.15);\n",
              "      filter: drop-shadow(0px 1px 2px rgba(0, 0, 0, 0.3));\n",
              "      fill: #FFFFFF;\n",
              "    }\n",
              "  </style>\n",
              "\n",
              "      <script>\n",
              "        const buttonEl =\n",
              "          document.querySelector('#df-c3f46485-33aa-4929-a50b-165fd2ae39f6 button.colab-df-convert');\n",
              "        buttonEl.style.display =\n",
              "          google.colab.kernel.accessAllowed ? 'block' : 'none';\n",
              "\n",
              "        async function convertToInteractive(key) {\n",
              "          const element = document.querySelector('#df-c3f46485-33aa-4929-a50b-165fd2ae39f6');\n",
              "          const dataTable =\n",
              "            await google.colab.kernel.invokeFunction('convertToInteractive',\n",
              "                                                     [key], {});\n",
              "          if (!dataTable) return;\n",
              "\n",
              "          const docLinkHtml = 'Like what you see? Visit the ' +\n",
              "            '<a target=\"_blank\" href=https://colab.research.google.com/notebooks/data_table.ipynb>data table notebook</a>'\n",
              "            + ' to learn more about interactive tables.';\n",
              "          element.innerHTML = '';\n",
              "          dataTable['output_type'] = 'display_data';\n",
              "          await google.colab.output.renderOutput(dataTable, element);\n",
              "          const docLink = document.createElement('div');\n",
              "          docLink.innerHTML = docLinkHtml;\n",
              "          element.appendChild(docLink);\n",
              "        }\n",
              "      </script>\n",
              "    </div>\n",
              "  </div>\n",
              "  "
            ]
          },
          "metadata": {},
          "execution_count": 13
        }
      ]
    },
    {
      "cell_type": "code",
      "source": [
        "Airline_df_SA['tweet_created'].min()"
      ],
      "metadata": {
        "colab": {
          "base_uri": "https://localhost:8080/"
        },
        "id": "zq0fY-N_0hmm",
        "outputId": "b68f62eb-4bf3-42a2-f198-24c52a9fc628"
      },
      "execution_count": 14,
      "outputs": [
        {
          "output_type": "execute_result",
          "data": {
            "text/plain": [
              "Timestamp('2015-02-16 00:00:00')"
            ]
          },
          "metadata": {},
          "execution_count": 14
        }
      ]
    },
    {
      "cell_type": "markdown",
      "source": [
        "Dropping the uncessary columns"
      ],
      "metadata": {
        "id": "Q2DRaZeSKXh7"
      }
    },
    {
      "cell_type": "code",
      "source": [
        "del Airline_df_SA['tweet_coord']\n",
        "del Airline_df_SA['airline_sentiment_gold']\n",
        "del Airline_df_SA['negativereason_gold']\n",
        "Airline_df_SA.head(2)"
      ],
      "metadata": {
        "colab": {
          "base_uri": "https://localhost:8080/",
          "height": 280
        },
        "id": "6d3uxAg10rHy",
        "outputId": "ec4e9d70-3cfa-4c25-fd47-c79c984527cc"
      },
      "execution_count": 15,
      "outputs": [
        {
          "output_type": "execute_result",
          "data": {
            "text/plain": [
              "       tweet_id airline_sentiment  airline_sentiment_confidence  \\\n",
              "0  5.700000e+17          negative                        0.6578   \n",
              "1  5.680000e+17          negative                        1.0000   \n",
              "\n",
              "            negativereason  negativereason_confidence     airline        name  \\\n",
              "0  Flight Booking Problems                     0.6578    American    McKennon   \n",
              "1  Flight Booking Problems                     0.3603  US Airways  jdpletnick   \n",
              "\n",
              "   retweet_count                                               text  \\\n",
              "0              0  @AmericanAir Thanks; but that results in missi...   \n",
              "1              1  @USAirways charging $200 2 change a flight is ...   \n",
              "\n",
              "  tweet_created tweet_location           user_timezone  \n",
              "0    2015-02-23            NaN  Atlantic Time (Canada)  \n",
              "1    2015-02-17    Newtown; Pa                   Quito  "
            ],
            "text/html": [
              "\n",
              "  <div id=\"df-16920daa-4b13-468a-aa92-39441a458a3b\">\n",
              "    <div class=\"colab-df-container\">\n",
              "      <div>\n",
              "<style scoped>\n",
              "    .dataframe tbody tr th:only-of-type {\n",
              "        vertical-align: middle;\n",
              "    }\n",
              "\n",
              "    .dataframe tbody tr th {\n",
              "        vertical-align: top;\n",
              "    }\n",
              "\n",
              "    .dataframe thead th {\n",
              "        text-align: right;\n",
              "    }\n",
              "</style>\n",
              "<table border=\"1\" class=\"dataframe\">\n",
              "  <thead>\n",
              "    <tr style=\"text-align: right;\">\n",
              "      <th></th>\n",
              "      <th>tweet_id</th>\n",
              "      <th>airline_sentiment</th>\n",
              "      <th>airline_sentiment_confidence</th>\n",
              "      <th>negativereason</th>\n",
              "      <th>negativereason_confidence</th>\n",
              "      <th>airline</th>\n",
              "      <th>name</th>\n",
              "      <th>retweet_count</th>\n",
              "      <th>text</th>\n",
              "      <th>tweet_created</th>\n",
              "      <th>tweet_location</th>\n",
              "      <th>user_timezone</th>\n",
              "    </tr>\n",
              "  </thead>\n",
              "  <tbody>\n",
              "    <tr>\n",
              "      <th>0</th>\n",
              "      <td>5.700000e+17</td>\n",
              "      <td>negative</td>\n",
              "      <td>0.6578</td>\n",
              "      <td>Flight Booking Problems</td>\n",
              "      <td>0.6578</td>\n",
              "      <td>American</td>\n",
              "      <td>McKennon</td>\n",
              "      <td>0</td>\n",
              "      <td>@AmericanAir Thanks; but that results in missi...</td>\n",
              "      <td>2015-02-23</td>\n",
              "      <td>NaN</td>\n",
              "      <td>Atlantic Time (Canada)</td>\n",
              "    </tr>\n",
              "    <tr>\n",
              "      <th>1</th>\n",
              "      <td>5.680000e+17</td>\n",
              "      <td>negative</td>\n",
              "      <td>1.0000</td>\n",
              "      <td>Flight Booking Problems</td>\n",
              "      <td>0.3603</td>\n",
              "      <td>US Airways</td>\n",
              "      <td>jdpletnick</td>\n",
              "      <td>1</td>\n",
              "      <td>@USAirways charging $200 2 change a flight is ...</td>\n",
              "      <td>2015-02-17</td>\n",
              "      <td>Newtown; Pa</td>\n",
              "      <td>Quito</td>\n",
              "    </tr>\n",
              "  </tbody>\n",
              "</table>\n",
              "</div>\n",
              "      <button class=\"colab-df-convert\" onclick=\"convertToInteractive('df-16920daa-4b13-468a-aa92-39441a458a3b')\"\n",
              "              title=\"Convert this dataframe to an interactive table.\"\n",
              "              style=\"display:none;\">\n",
              "        \n",
              "  <svg xmlns=\"http://www.w3.org/2000/svg\" height=\"24px\"viewBox=\"0 0 24 24\"\n",
              "       width=\"24px\">\n",
              "    <path d=\"M0 0h24v24H0V0z\" fill=\"none\"/>\n",
              "    <path d=\"M18.56 5.44l.94 2.06.94-2.06 2.06-.94-2.06-.94-.94-2.06-.94 2.06-2.06.94zm-11 1L8.5 8.5l.94-2.06 2.06-.94-2.06-.94L8.5 2.5l-.94 2.06-2.06.94zm10 10l.94 2.06.94-2.06 2.06-.94-2.06-.94-.94-2.06-.94 2.06-2.06.94z\"/><path d=\"M17.41 7.96l-1.37-1.37c-.4-.4-.92-.59-1.43-.59-.52 0-1.04.2-1.43.59L10.3 9.45l-7.72 7.72c-.78.78-.78 2.05 0 2.83L4 21.41c.39.39.9.59 1.41.59.51 0 1.02-.2 1.41-.59l7.78-7.78 2.81-2.81c.8-.78.8-2.07 0-2.86zM5.41 20L4 18.59l7.72-7.72 1.47 1.35L5.41 20z\"/>\n",
              "  </svg>\n",
              "      </button>\n",
              "      \n",
              "  <style>\n",
              "    .colab-df-container {\n",
              "      display:flex;\n",
              "      flex-wrap:wrap;\n",
              "      gap: 12px;\n",
              "    }\n",
              "\n",
              "    .colab-df-convert {\n",
              "      background-color: #E8F0FE;\n",
              "      border: none;\n",
              "      border-radius: 50%;\n",
              "      cursor: pointer;\n",
              "      display: none;\n",
              "      fill: #1967D2;\n",
              "      height: 32px;\n",
              "      padding: 0 0 0 0;\n",
              "      width: 32px;\n",
              "    }\n",
              "\n",
              "    .colab-df-convert:hover {\n",
              "      background-color: #E2EBFA;\n",
              "      box-shadow: 0px 1px 2px rgba(60, 64, 67, 0.3), 0px 1px 3px 1px rgba(60, 64, 67, 0.15);\n",
              "      fill: #174EA6;\n",
              "    }\n",
              "\n",
              "    [theme=dark] .colab-df-convert {\n",
              "      background-color: #3B4455;\n",
              "      fill: #D2E3FC;\n",
              "    }\n",
              "\n",
              "    [theme=dark] .colab-df-convert:hover {\n",
              "      background-color: #434B5C;\n",
              "      box-shadow: 0px 1px 3px 1px rgba(0, 0, 0, 0.15);\n",
              "      filter: drop-shadow(0px 1px 2px rgba(0, 0, 0, 0.3));\n",
              "      fill: #FFFFFF;\n",
              "    }\n",
              "  </style>\n",
              "\n",
              "      <script>\n",
              "        const buttonEl =\n",
              "          document.querySelector('#df-16920daa-4b13-468a-aa92-39441a458a3b button.colab-df-convert');\n",
              "        buttonEl.style.display =\n",
              "          google.colab.kernel.accessAllowed ? 'block' : 'none';\n",
              "\n",
              "        async function convertToInteractive(key) {\n",
              "          const element = document.querySelector('#df-16920daa-4b13-468a-aa92-39441a458a3b');\n",
              "          const dataTable =\n",
              "            await google.colab.kernel.invokeFunction('convertToInteractive',\n",
              "                                                     [key], {});\n",
              "          if (!dataTable) return;\n",
              "\n",
              "          const docLinkHtml = 'Like what you see? Visit the ' +\n",
              "            '<a target=\"_blank\" href=https://colab.research.google.com/notebooks/data_table.ipynb>data table notebook</a>'\n",
              "            + ' to learn more about interactive tables.';\n",
              "          element.innerHTML = '';\n",
              "          dataTable['output_type'] = 'display_data';\n",
              "          await google.colab.output.renderOutput(dataTable, element);\n",
              "          const docLink = document.createElement('div');\n",
              "          docLink.innerHTML = docLinkHtml;\n",
              "          element.appendChild(docLink);\n",
              "        }\n",
              "      </script>\n",
              "    </div>\n",
              "  </div>\n",
              "  "
            ]
          },
          "metadata": {},
          "execution_count": 15
        }
      ]
    },
    {
      "cell_type": "markdown",
      "source": [
        "Determining all the Airlines for the study"
      ],
      "metadata": {
        "id": "AhJqNJeYKdOs"
      }
    },
    {
      "cell_type": "code",
      "source": [
        "Airline_df_SA['airline'].unique()"
      ],
      "metadata": {
        "colab": {
          "base_uri": "https://localhost:8080/"
        },
        "id": "AwmiRkEw09sX",
        "outputId": "a0f1060a-a767-4b1b-e7b0-7c2232f47289"
      },
      "execution_count": 16,
      "outputs": [
        {
          "output_type": "execute_result",
          "data": {
            "text/plain": [
              "array(['American', 'US Airways', 'United', 'Southwest', 'Delta',\n",
              "       'Virgin America'], dtype=object)"
            ]
          },
          "metadata": {},
          "execution_count": 16
        }
      ]
    },
    {
      "cell_type": "markdown",
      "source": [
        "Plotting the Airlines as per the Positive and negative sentiment composition"
      ],
      "metadata": {
        "id": "KpT19tbcKpmE"
      }
    },
    {
      "cell_type": "code",
      "source": [
        "fig = Airline_df_SA.groupby(['airline', 'airline_sentiment']).size()\n",
        "fig.unstack().plot(kind='bar', stacked=True, figsize=(15,10))"
      ],
      "metadata": {
        "colab": {
          "base_uri": "https://localhost:8080/",
          "height": 686
        },
        "id": "QLviyreF3z3s",
        "outputId": "25b46ca3-1f97-4839-c93e-1f65477acc7a"
      },
      "execution_count": 18,
      "outputs": [
        {
          "output_type": "execute_result",
          "data": {
            "text/plain": [
              "<matplotlib.axes._subplots.AxesSubplot at 0x7f73582e14c0>"
            ]
          },
          "metadata": {},
          "execution_count": 18
        },
        {
          "output_type": "display_data",
          "data": {
            "text/plain": [
              "<Figure size 1080x720 with 1 Axes>"
            ],
            "image/png": "[encoded data removed]"
          },
          "metadata": {
            "needs_background": "light"
          }
        }
      ]
    },
    {
      "cell_type": "markdown",
      "source": [
        "Plotting the Airlines as per the available negative reasons to understand how On-Time/Delay impacts the sentiment"
      ],
      "metadata": {
        "id": "o0tGOyY6LIEb"
      }
    },
    {
      "cell_type": "code",
      "source": [
        "NR_df = Airline_df_SA.groupby('airline')['negativereason'].value_counts(ascending=True)\n",
        "NR_df.groupby(['airline','negativereason']).sum().unstack().plot(kind='bar',figsize=(22,12))\n",
        "plt.xlabel('Airline Company')\n",
        "plt.ylabel('Number of Negative reasons')\n",
        "plt.title(\"The number of the count of negative reasons for airlines\")\n",
        "plt.show()"
      ],
      "metadata": {
        "colab": {
          "base_uri": "https://localhost:8080/",
          "height": 720
        },
        "id": "hbGkF0Hl4F7z",
        "outputId": "26c57e46-a091-47dc-b48a-01e8e97f701d"
      },
      "execution_count": 19,
      "outputs": [
        {
          "output_type": "display_data",
          "data": {
            "text/plain": [
              "<Figure size 1584x864 with 1 Axes>"
            ],
            "image/png": "[encoded data removed]"
          },
          "metadata": {
            "needs_background": "light"
          }
        }
      ]
    },
    {
      "cell_type": "markdown",
      "source": [
        "Converting the CSV data to a Spark Dataframe"
      ],
      "metadata": {
        "id": "JEyUacXqLuDp"
      }
    },
    {
      "cell_type": "code",
      "source": [
        "Airline_df_LR = spark_session.read.csv('Sentiment_Analysis_Dataset.csv',header = True) "
      ],
      "metadata": {
        "id": "L0LMIYOF64jI"
      },
      "execution_count": 22,
      "outputs": []
    },
    {
      "cell_type": "markdown",
      "source": [
        "Selecting the Sentiment and the twitter data text. Also removing the NULL values"
      ],
      "metadata": {
        "id": "anMd-xOWMEeg"
      }
    },
    {
      "cell_type": "code",
      "source": [
        "Airline_df_LR.show(truncate=False, n=3)\n",
        "Airline_df_LR1 = Airline_df_LR.filter(col(\"airline_sentiment\").isNotNull()).select(\"text\", \"airline_sentiment\")"
      ],
      "metadata": {
        "colab": {
          "base_uri": "https://localhost:8080/"
        },
        "id": "myXkjGgd7CJj",
        "outputId": "7ebcaae0-997a-4294-ce71-aa1ff1429e30"
      },
      "execution_count": 23,
      "outputs": [
        {
          "output_type": "stream",
          "name": "stdout",
          "text": [
            "+--------+-----------------+----------------------------+-----------------------+-------------------------+----------+----------------------+----------+-------------------+-------------+------------------------------------------------------------------------------------------------------------------------------------------------+-----------+---------------+--------------+----------------------+\n",
            "|tweet_id|airline_sentiment|airline_sentiment_confidence|negativereason         |negativereason_confidence|airline   |airline_sentiment_gold|name      |negativereason_gold|retweet_count|text                                                                                                                                            |tweet_coord|tweet_created  |tweet_location|user_timezone         |\n",
            "+--------+-----------------+----------------------------+-----------------------+-------------------------+----------+----------------------+----------+-------------------+-------------+------------------------------------------------------------------------------------------------------------------------------------------------+-----------+---------------+--------------+----------------------+\n",
            "|5.70E+17|negative         |0.6578                      |Flight Booking Problems|0.6578                   |American  |null                  |McKennon  |null               |0            |@AmericanAir Thanks; but that results in missing the conference I'm attending. Are there options to book earlier;or if not;receive a refund?    |null       |2/23/2015 6:47 |null          |Atlantic Time (Canada)|\n",
            "|5.68E+17|negative         |1                           |Flight Booking Problems|0.3603                   |US Airways|null                  |jdpletnick|null               |1            |@USAirways charging $200 2 change a flight is a rip off the reason I have 2 is out of my hands &amp; I want 2 reschedule same flight but in July|null       |2/17/2015 11:43|Newtown; Pa   |Quito                 |\n",
            "|5.70E+17|negative         |1                           |Flight Booking Problems|1                        |United    |null                  |ljtypes   |null               |0            |@united tried to book a flight IAH-MNL departing 3/31/15 returning 4/17/15 you are advertising 9 flights for $1051 that can't be book!          |null       |2/22/2015 21:01|H-town        |null                  |\n",
            "+--------+-----------------+----------------------------+-----------------------+-------------------------+----------+----------------------+----------+-------------------+-------------+------------------------------------------------------------------------------------------------------------------------------------------------+-----------+---------------+--------------+----------------------+\n",
            "only showing top 3 rows\n",
            "\n"
          ]
        }
      ]
    },
    {
      "cell_type": "code",
      "source": [
        "Airline_df_LR2 = Airline_df_LR1.select(\"text\", \"airline_sentiment\")\n",
        "Airline_df_LR2.show(truncate = False,n=5)"
      ],
      "metadata": {
        "colab": {
          "base_uri": "https://localhost:8080/"
        },
        "id": "6Pdu2Yfd7Yxt",
        "outputId": "9dec4433-ee04-43e3-9dcb-43f74574c9b7"
      },
      "execution_count": 24,
      "outputs": [
        {
          "output_type": "stream",
          "name": "stdout",
          "text": [
            "+------------------------------------------------------------------------------------------------------------------------------------------------+-----------------+\n",
            "|text                                                                                                                                            |airline_sentiment|\n",
            "+------------------------------------------------------------------------------------------------------------------------------------------------+-----------------+\n",
            "|@AmericanAir Thanks; but that results in missing the conference I'm attending. Are there options to book earlier;or if not;receive a refund?    |negative         |\n",
            "|@USAirways charging $200 2 change a flight is a rip off the reason I have 2 is out of my hands &amp; I want 2 reschedule same flight but in July|negative         |\n",
            "|@united tried to book a flight IAH-MNL departing 3/31/15 returning 4/17/15 you are advertising 9 flights for $1051 that can't be book!          |negative         |\n",
            "|@United DO NOT FLY UNITED WITH CHECKED BAGGAGE! It will never find you!                                                                         |negative         |\n",
            "|@AmericanAir Thank you so much.                                                                                                                 |positive         |\n",
            "+------------------------------------------------------------------------------------------------------------------------------------------------+-----------------+\n",
            "only showing top 5 rows\n",
            "\n"
          ]
        }
      ]
    },
    {
      "cell_type": "markdown",
      "source": [
        "Using the Regular expression, Replacing positive as 1, negative as 0 and neutral as -1"
      ],
      "metadata": {
        "id": "IkcqMQFCMmUn"
      }
    },
    {
      "cell_type": "code",
      "source": [
        "d1 = Airline_df_LR2.withColumn(\"airline_sentiment\", regexp_replace(Airline_df_LR2[\"airline_sentiment\"], \"positive\", \"1\"))\n",
        "d1.show()\n"
      ],
      "metadata": {
        "colab": {
          "base_uri": "https://localhost:8080/"
        },
        "id": "FhLaDCxD7z6-",
        "outputId": "b59e78ca-4357-4322-a642-bdcaf44d318e"
      },
      "execution_count": 25,
      "outputs": [
        {
          "output_type": "stream",
          "name": "stdout",
          "text": [
            "+--------------------+-----------------+\n",
            "|                text|airline_sentiment|\n",
            "+--------------------+-----------------+\n",
            "|@AmericanAir Than...|         negative|\n",
            "|@USAirways chargi...|         negative|\n",
            "|@united tried to ...|         negative|\n",
            "|@United DO NOT FL...|         negative|\n",
            "|@AmericanAir Than...|                1|\n",
            "|@united Nope - st...|         negative|\n",
            "|@United I have no...|         negative|\n",
            "|@SouthwestAir can...|         negative|\n",
            "|@united Yes I did...|         negative|\n",
            "|@SouthwestAir Thx...|                1|\n",
            "|@USAirways I have...|         negative|\n",
            "|@united space. Do...|         negative|\n",
            "|@USAirways @Ameri...|         negative|\n",
            "|@SouthwestAir you...|         negative|\n",
            "|@JetBlue; my dads...|         negative|\n",
            "|@JetBlue ...secon...|         negative|\n",
            "|@United the ones ...|         negative|\n",
            "|@AmericanAir Ther...|         negative|\n",
            "|@USAirways now on...|         negative|\n",
            "|@united nice 2 se...|         negative|\n",
            "+--------------------+-----------------+\n",
            "only showing top 20 rows\n",
            "\n"
          ]
        }
      ]
    },
    {
      "cell_type": "code",
      "source": [
        "d2 = d1.withColumn(\"airline_sentiment\", regexp_replace(d1[\"airline_sentiment\"], \"negative\", \"0\"))\n",
        "d2.show()"
      ],
      "metadata": {
        "colab": {
          "base_uri": "https://localhost:8080/"
        },
        "id": "8A-EaCmK8Sdd",
        "outputId": "a67bae37-5448-43c5-80ba-39abafde9c81"
      },
      "execution_count": 26,
      "outputs": [
        {
          "output_type": "stream",
          "name": "stdout",
          "text": [
            "+--------------------+-----------------+\n",
            "|                text|airline_sentiment|\n",
            "+--------------------+-----------------+\n",
            "|@AmericanAir Than...|                0|\n",
            "|@USAirways chargi...|                0|\n",
            "|@united tried to ...|                0|\n",
            "|@United DO NOT FL...|                0|\n",
            "|@AmericanAir Than...|                1|\n",
            "|@united Nope - st...|                0|\n",
            "|@United I have no...|                0|\n",
            "|@SouthwestAir can...|                0|\n",
            "|@united Yes I did...|                0|\n",
            "|@SouthwestAir Thx...|                1|\n",
            "|@USAirways I have...|                0|\n",
            "|@united space. Do...|                0|\n",
            "|@USAirways @Ameri...|                0|\n",
            "|@SouthwestAir you...|                0|\n",
            "|@JetBlue; my dads...|                0|\n",
            "|@JetBlue ...secon...|                0|\n",
            "|@United the ones ...|                0|\n",
            "|@AmericanAir Ther...|                0|\n",
            "|@USAirways now on...|                0|\n",
            "|@united nice 2 se...|                0|\n",
            "+--------------------+-----------------+\n",
            "only showing top 20 rows\n",
            "\n"
          ]
        }
      ]
    },
    {
      "cell_type": "code",
      "source": [
        "d3 = d2.withColumn(\"airline_sentiment\", regexp_replace(d2[\"airline_sentiment\"], \"neutral\", \"-1\"))\n",
        "d3.show()"
      ],
      "metadata": {
        "colab": {
          "base_uri": "https://localhost:8080/"
        },
        "id": "1CtBtN-a9ptL",
        "outputId": "923b38cc-39aa-40a7-c272-a77f276b6639"
      },
      "execution_count": 27,
      "outputs": [
        {
          "output_type": "stream",
          "name": "stdout",
          "text": [
            "+--------------------+-----------------+\n",
            "|                text|airline_sentiment|\n",
            "+--------------------+-----------------+\n",
            "|@AmericanAir Than...|                0|\n",
            "|@USAirways chargi...|                0|\n",
            "|@united tried to ...|                0|\n",
            "|@United DO NOT FL...|                0|\n",
            "|@AmericanAir Than...|                1|\n",
            "|@united Nope - st...|                0|\n",
            "|@United I have no...|                0|\n",
            "|@SouthwestAir can...|                0|\n",
            "|@united Yes I did...|                0|\n",
            "|@SouthwestAir Thx...|                1|\n",
            "|@USAirways I have...|                0|\n",
            "|@united space. Do...|                0|\n",
            "|@USAirways @Ameri...|                0|\n",
            "|@SouthwestAir you...|                0|\n",
            "|@JetBlue; my dads...|                0|\n",
            "|@JetBlue ...secon...|                0|\n",
            "|@United the ones ...|                0|\n",
            "|@AmericanAir Ther...|                0|\n",
            "|@USAirways now on...|                0|\n",
            "|@united nice 2 se...|                0|\n",
            "+--------------------+-----------------+\n",
            "only showing top 20 rows\n",
            "\n"
          ]
        }
      ]
    },
    {
      "cell_type": "markdown",
      "source": [
        "Typecasting the sentiment column as integer and changing the name to Label"
      ],
      "metadata": {
        "id": "ufwwZEHNM7Kh"
      }
    },
    {
      "cell_type": "code",
      "source": [
        "Airline_df_LR3 = d3.select(col(\"text\").alias(\"SentimentText\"), col(\"airline_sentiment\").cast(\"Int\").alias(\"label\"))\n",
        "Airline_df_LR3.show(truncate = False,n=5)"
      ],
      "metadata": {
        "colab": {
          "base_uri": "https://localhost:8080/"
        },
        "id": "EFf6YHAx9yPK",
        "outputId": "70813753-f207-454c-c516-62a4b2a22474"
      },
      "execution_count": 28,
      "outputs": [
        {
          "output_type": "stream",
          "name": "stdout",
          "text": [
            "+------------------------------------------------------------------------------------------------------------------------------------------------+-----+\n",
            "|SentimentText                                                                                                                                   |label|\n",
            "+------------------------------------------------------------------------------------------------------------------------------------------------+-----+\n",
            "|@AmericanAir Thanks; but that results in missing the conference I'm attending. Are there options to book earlier;or if not;receive a refund?    |0    |\n",
            "|@USAirways charging $200 2 change a flight is a rip off the reason I have 2 is out of my hands &amp; I want 2 reschedule same flight but in July|0    |\n",
            "|@united tried to book a flight IAH-MNL departing 3/31/15 returning 4/17/15 you are advertising 9 flights for $1051 that can't be book!          |0    |\n",
            "|@United DO NOT FLY UNITED WITH CHECKED BAGGAGE! It will never find you!                                                                         |0    |\n",
            "|@AmericanAir Thank you so much.                                                                                                                 |1    |\n",
            "+------------------------------------------------------------------------------------------------------------------------------------------------+-----+\n",
            "only showing top 5 rows\n",
            "\n"
          ]
        }
      ]
    },
    {
      "cell_type": "markdown",
      "source": [
        "Removing Null Values from the Sentiment text column"
      ],
      "metadata": {
        "id": "NK53StucNMBv"
      }
    },
    {
      "cell_type": "code",
      "source": [
        "Airline_df_LR4 =Airline_df_LR3 .filter(col(\"SentimentText\").isNotNull()).select(\"SentimentText\", \"label\")"
      ],
      "metadata": {
        "id": "NvglWMc3-FXS"
      },
      "execution_count": 29,
      "outputs": []
    },
    {
      "cell_type": "markdown",
      "source": [
        "Splitting the testing and training data with index 0 as training and 1 as testing. Counting the rows ocurring in the split"
      ],
      "metadata": {
        "id": "uxLiJtSNNT5A"
      }
    },
    {
      "cell_type": "code",
      "source": [
        "Split_Data = Airline_df_LR4.randomSplit([0.7, 0.3]) \n",
        "Train_Data = Split_Data[0] \n",
        "Test_Data = Split_Data[1] \n",
        "Train_count = Train_Data.count()\n",
        "Test_count = Test_Data.count()\n",
        "print (\"Train rows:\", Train_count, \"; Test rows:\", Test_count)"
      ],
      "metadata": {
        "colab": {
          "base_uri": "https://localhost:8080/"
        },
        "id": "iOPYgY0I-RRf",
        "outputId": "43eeef82-2cf5-4e16-b1e6-2fe841206ad2"
      },
      "execution_count": 30,
      "outputs": [
        {
          "output_type": "stream",
          "name": "stdout",
          "text": [
            "Train rows: 8039 ; Test rows: 3501\n"
          ]
        }
      ]
    },
    {
      "cell_type": "markdown",
      "source": [
        "Tokenizing the Training Data"
      ],
      "metadata": {
        "id": "3AsE26v_OcSS"
      }
    },
    {
      "cell_type": "code",
      "source": [
        "Token = Tokenizer(inputCol=\"SentimentText\", outputCol=\"SentimentWords\")\n",
        "Token_Train = Token.transform(Train_Data)\n",
        "print(Token_Train)\n",
        "Token_Train.printSchema()\n",
        "Token_Train.show(truncate=False, n=5)"
      ],
      "metadata": {
        "colab": {
          "base_uri": "https://localhost:8080/"
        },
        "id": "S8uV42mR-a4G",
        "outputId": "3c161e3f-7fe9-487b-adc6-693a0da9f50e"
      },
      "execution_count": 31,
      "outputs": [
        {
          "output_type": "stream",
          "name": "stdout",
          "text": [
            "DataFrame[SentimentText: string, label: int, SentimentWords: array<string>]\n",
            "root\n",
            " |-- SentimentText: string (nullable = true)\n",
            " |-- label: integer (nullable = true)\n",
            " |-- SentimentWords: array (nullable = true)\n",
            " |    |-- element: string (containsNull = true)\n",
            "\n",
            "+--------------------------------------------------------------------------------------------------------------------------------------------------------------------+-----+---------------------------------------------------------------------------------------------------------------------------------------------------------------------------------------+\n",
            "|SentimentText                                                                                                                                                       |label|SentimentWords                                                                                                                                                                         |\n",
            "+--------------------------------------------------------------------------------------------------------------------------------------------------------------------+-----+---------------------------------------------------------------------------------------------------------------------------------------------------------------------------------------+\n",
            "|\"\"\"LOL you guys are so on it\"\" - me; had this been 4 months ago...???@JetBlue: Our fleet's on fleek. http://t.co/LYcARlTFHl??\\9D\"                                   |1    |[\"\"\"lol, you, guys, are, so, on, it\"\", -, me;, had, this, been, 4, months, ago...???@jetblue:, our, fleet's, on, fleek., http://t.co/lycarltfhl??\\9d\"]                                 |\n",
            "|\".@AmericanAir @USAirways Add insult to injury you guys \"\"misplaced\"\" my bag. Can't believe you have to pay money to be treated this poorly.\"                       |0    |[\".@americanair, @usairways, add, insult, to, injury, you, guys, \"\"misplaced\"\", my, bag., can't, believe, you, have, to, pay, money, to, be, treated, this, poorly.\"]                  |\n",
            "|\".@united It's worth saying that; if you litter in Singapore; you get caned. \"\"But there are rules\"\" says @united\"                                                  |0    |[\".@united, it's, worth, saying, that;, if, you, litter, in, singapore;, you, get, caned., \"\"but, there, are, rules\"\", says, @united\"]                                                 |\n",
            "|\".@united You may \"\"dislike delays\"\" but I paid you .We had an agreement that I paid you and you got me to my destination at a certain time.\"                       |0    |[\".@united, you, may, \"\"dislike, delays\"\", but, i, paid, you, .we, had, an, agreement, that, i, paid, you, and, you, got, me, to, my, destination, at, a, certain, time.\"]             |\n",
            "|\"???@JetBlue: @benjaminokeefe Thanks for including us on your tour! Did you pack your winter coat???\\9DUnfortunately yes ?\\9D\"\"??\\8F?>\"\"??\\8F #WereNotinCaliAnymore\"|0    |[\"???@jetblue:, @benjaminokeefe, thanks, for, including, us, on, your, tour!, did, you, pack, your, winter, coat???\\9dunfortunately, yes, ?\\9d\"\"??\\8f?>\"\"??\\8f, #werenotincalianymore\"]|\n",
            "+--------------------------------------------------------------------------------------------------------------------------------------------------------------------+-----+---------------------------------------------------------------------------------------------------------------------------------------------------------------------------------------+\n",
            "only showing top 5 rows\n",
            "\n"
          ]
        }
      ]
    },
    {
      "cell_type": "markdown",
      "source": [
        "Removing the stop words for the Training Data"
      ],
      "metadata": {
        "id": "_crtXL4VPGgK"
      }
    },
    {
      "cell_type": "code",
      "source": [
        "Stopwords = StopWordsRemover(inputCol=Token.getOutputCol(), outputCol=\"MeaningfulWords\")\n",
        "Stopwords_Train = Stopwords.transform(Token_Train)\n",
        "Stopwords_Train.show(truncate=False, n=5)"
      ],
      "metadata": {
        "colab": {
          "base_uri": "https://localhost:8080/"
        },
        "id": "3fZR3Ay4-lgd",
        "outputId": "b2f07963-3e27-4a70-b466-1d3a7b790fd3"
      },
      "execution_count": 32,
      "outputs": [
        {
          "output_type": "stream",
          "name": "stdout",
          "text": [
            "+--------------------------------------------------------------------------------------------------------------------------------------------------------------------+-----+---------------------------------------------------------------------------------------------------------------------------------------------------------------------------------------+--------------------------------------------------------------------------------------------------------------------------------------------------------+\n",
            "|SentimentText                                                                                                                                                       |label|SentimentWords                                                                                                                                                                         |MeaningfulWords                                                                                                                                         |\n",
            "+--------------------------------------------------------------------------------------------------------------------------------------------------------------------+-----+---------------------------------------------------------------------------------------------------------------------------------------------------------------------------------------+--------------------------------------------------------------------------------------------------------------------------------------------------------+\n",
            "|\"\"\"LOL you guys are so on it\"\" - me; had this been 4 months ago...???@JetBlue: Our fleet's on fleek. http://t.co/LYcARlTFHl??\\9D\"                                   |1    |[\"\"\"lol, you, guys, are, so, on, it\"\", -, me;, had, this, been, 4, months, ago...???@jetblue:, our, fleet's, on, fleek., http://t.co/lycarltfhl??\\9d\"]                                 |[\"\"\"lol, guys, it\"\", -, me;, 4, months, ago...???@jetblue:, fleet's, fleek., http://t.co/lycarltfhl??\\9d\"]                                              |\n",
            "|\".@AmericanAir @USAirways Add insult to injury you guys \"\"misplaced\"\" my bag. Can't believe you have to pay money to be treated this poorly.\"                       |0    |[\".@americanair, @usairways, add, insult, to, injury, you, guys, \"\"misplaced\"\", my, bag., can't, believe, you, have, to, pay, money, to, be, treated, this, poorly.\"]                  |[\".@americanair, @usairways, add, insult, injury, guys, \"\"misplaced\"\", bag., believe, pay, money, treated, poorly.\"]                                    |\n",
            "|\".@united It's worth saying that; if you litter in Singapore; you get caned. \"\"But there are rules\"\" says @united\"                                                  |0    |[\".@united, it's, worth, saying, that;, if, you, litter, in, singapore;, you, get, caned., \"\"but, there, are, rules\"\", says, @united\"]                                                 |[\".@united, worth, saying, that;, litter, singapore;, get, caned., \"\"but, rules\"\", says, @united\"]                                                      |\n",
            "|\".@united You may \"\"dislike delays\"\" but I paid you .We had an agreement that I paid you and you got me to my destination at a certain time.\"                       |0    |[\".@united, you, may, \"\"dislike, delays\"\", but, i, paid, you, .we, had, an, agreement, that, i, paid, you, and, you, got, me, to, my, destination, at, a, certain, time.\"]             |[\".@united, may, \"\"dislike, delays\"\", paid, .we, agreement, paid, got, destination, certain, time.\"]                                                    |\n",
            "|\"???@JetBlue: @benjaminokeefe Thanks for including us on your tour! Did you pack your winter coat???\\9DUnfortunately yes ?\\9D\"\"??\\8F?>\"\"??\\8F #WereNotinCaliAnymore\"|0    |[\"???@jetblue:, @benjaminokeefe, thanks, for, including, us, on, your, tour!, did, you, pack, your, winter, coat???\\9dunfortunately, yes, ?\\9d\"\"??\\8f?>\"\"??\\8f, #werenotincalianymore\"]|[\"???@jetblue:, @benjaminokeefe, thanks, including, us, tour!, pack, winter, coat???\\9dunfortunately, yes, ?\\9d\"\"??\\8f?>\"\"??\\8f, #werenotincalianymore\"]|\n",
            "+--------------------------------------------------------------------------------------------------------------------------------------------------------------------+-----+---------------------------------------------------------------------------------------------------------------------------------------------------------------------------------------+--------------------------------------------------------------------------------------------------------------------------------------------------------+\n",
            "only showing top 5 rows\n",
            "\n"
          ]
        }
      ]
    },
    {
      "cell_type": "markdown",
      "source": [
        "Appying Hashing Transformation to obtain vectors for our prediction"
      ],
      "metadata": {
        "id": "OVKUAq2mPmZU"
      }
    },
    {
      "cell_type": "code",
      "source": [
        "HashingTF = HashingTF(inputCol=Stopwords.getOutputCol(), outputCol=\"features\")\n",
        "HashingTF_Train = HashingTF.transform(Stopwords_Train).select('label', 'MeaningfulWords', 'features')\n",
        "HashingTF_Train.show(truncate=False, n=3)"
      ],
      "metadata": {
        "colab": {
          "base_uri": "https://localhost:8080/"
        },
        "id": "bGf_EQ_m-rCM",
        "outputId": "0e601341-5d9a-4407-c2d5-1c96dbe0ce19"
      },
      "execution_count": 33,
      "outputs": [
        {
          "output_type": "stream",
          "name": "stdout",
          "text": [
            "+-----+--------------------------------------------------------------------------------------------------------------------+-----------------------------------------------------------------------------------------------------------------------------------------------------+\n",
            "|label|MeaningfulWords                                                                                                     |features                                                                                                                                             |\n",
            "+-----+--------------------------------------------------------------------------------------------------------------------+-----------------------------------------------------------------------------------------------------------------------------------------------------+\n",
            "|1    |[\"\"\"lol, guys, it\"\", -, me;, 4, months, ago...???@jetblue:, fleet's, fleek., http://t.co/lycarltfhl??\\9d\"]          |(262144,[1546,2040,27412,29473,38640,63362,77276,101376,194802,227092,261293],[1.0,1.0,1.0,1.0,1.0,1.0,1.0,1.0,1.0,1.0,1.0])                         |\n",
            "|0    |[\".@americanair, @usairways, add, insult, injury, guys, \"\"misplaced\"\", bag., believe, pay, money, treated, poorly.\"]|(262144,[767,3664,48063,101376,127004,134711,174376,225157,239713,246419,247920,251832,253066],[1.0,1.0,1.0,1.0,1.0,1.0,1.0,1.0,1.0,1.0,1.0,1.0,1.0])|\n",
            "|0    |[\".@united, worth, saying, that;, litter, singapore;, get, caned., \"\"but, rules\"\", says, @united\"]                  |(262144,[41407,44752,51247,83170,161826,185484,188540,200858,201178,216542,252722,259937],[1.0,1.0,1.0,1.0,1.0,1.0,1.0,1.0,1.0,1.0,1.0,1.0])         |\n",
            "+-----+--------------------------------------------------------------------------------------------------------------------+-----------------------------------------------------------------------------------------------------------------------------------------------------+\n",
            "only showing top 3 rows\n",
            "\n"
          ]
        }
      ]
    },
    {
      "cell_type": "markdown",
      "source": [
        "Training our Logistic Regression Model"
      ],
      "metadata": {
        "id": "A4ZzPICTQ2vi"
      }
    },
    {
      "cell_type": "code",
      "source": [
        "LogisticRegression_SA= LogisticRegression(labelCol=\"label\", featuresCol=\"features\", maxIter=10, regParam=0.01)\n",
        "model = LogisticRegression_SA.fit(HashingTF_Train)"
      ],
      "metadata": {
        "id": "ePBQMvTz_DZr"
      },
      "execution_count": 34,
      "outputs": []
    },
    {
      "cell_type": "markdown",
      "source": [
        "Performing the same step of data manipulation on the test data."
      ],
      "metadata": {
        "id": "f4UPhnSCRgKw"
      }
    },
    {
      "cell_type": "code",
      "source": [
        "Token_Test = Token.transform(Test_Data)\n",
        "Stopwords_Test = Stopwords.transform(Token_Test)\n",
        "HashingTF_Test = HashingTF.transform(Stopwords_Test).select('Label', 'MeaningfulWords', 'features')\n",
        "HashingTF_Test.show(truncate=False, n=2)"
      ],
      "metadata": {
        "colab": {
          "base_uri": "https://localhost:8080/"
        },
        "id": "4Es7UMt4_K7e",
        "outputId": "c9cb1612-5ac6-41b2-8802-b10c7f888c15"
      },
      "execution_count": 35,
      "outputs": [
        {
          "output_type": "stream",
          "name": "stdout",
          "text": [
            "+-----+-----------------------------------------------------------------------------------------------------------------------------------+-----------------------------------------------------------------------------------------------------------------------------------------------------------------------+\n",
            "|Label|MeaningfulWords                                                                                                                    |features                                                                                                                                                               |\n",
            "+-----+-----------------------------------------------------------------------------------------------------------------------------------+-----------------------------------------------------------------------------------------------------------------------------------------------------------------------+\n",
            "|0    |[\".@jetblue, ooookay, @abc, silly, you., guess, \"\"watching\"\", oscars, purely, twitter, reactions, tonight., #oscars\"]              |(262144,[1512,13842,41634,48040,84815,85358,111168,137732,143368,165924,189716,231291,239383],[1.0,1.0,1.0,1.0,1.0,1.0,1.0,1.0,1.0,1.0,1.0,1.0,1.0])                   |\n",
            "|0    |[\"???@americanair:, , \"\"jason;, end, missing, connection., please, see, dfw, agents, assistance.??\\9d, nope!, taken, yet;, still!\"]|(262144,[8538,33672,34254,38004,45952,58868,59707,87122,90642,131803,156917,166368,209309,249180,249880],[1.0,1.0,1.0,1.0,1.0,1.0,1.0,1.0,1.0,1.0,1.0,1.0,1.0,1.0,1.0])|\n",
            "+-----+-----------------------------------------------------------------------------------------------------------------------------------+-----------------------------------------------------------------------------------------------------------------------------------------------------------------------+\n",
            "only showing top 2 rows\n",
            "\n"
          ]
        }
      ]
    },
    {
      "cell_type": "markdown",
      "source": [
        "Using our Logistic Regression Model to make the Final Prediction on the Test Data"
      ],
      "metadata": {
        "id": "OaNkGeRTTamT"
      }
    },
    {
      "cell_type": "code",
      "source": [
        "Logisticreg_Pred = model.transform(HashingTF_Test)\n",
        "Prediction = Logisticreg_Pred.select(\"MeaningfulWords\", \"prediction\", \"Label\")\n",
        "Prediction.show(n=4, truncate = False)\n",
        "Correct = Prediction.filter(Prediction['prediction'] == Prediction['Label']).count()\n",
        "Total = Prediction.count()"
      ],
      "metadata": {
        "colab": {
          "base_uri": "https://localhost:8080/"
        },
        "id": "lez-nKU5_Nb1",
        "outputId": "8a68fc50-8a3c-44b6-b083-8e2347bb8bee"
      },
      "execution_count": 38,
      "outputs": [
        {
          "output_type": "stream",
          "name": "stdout",
          "text": [
            "+-----------------------------------------------------------------------------------------------------------------------------------+----------+-----+\n",
            "|MeaningfulWords                                                                                                                    |prediction|Label|\n",
            "+-----------------------------------------------------------------------------------------------------------------------------------+----------+-----+\n",
            "|[\".@jetblue, ooookay, @abc, silly, you., guess, \"\"watching\"\", oscars, purely, twitter, reactions, tonight., #oscars\"]              |0.0       |0    |\n",
            "|[\"???@americanair:, , \"\"jason;, end, missing, connection., please, see, dfw, agents, assistance.??\\9d, nope!, taken, yet;, still!\"]|0.0       |0    |\n",
            "|[\"@americanair, \"\"overweight\"\", flight, =, sold, tickets, seats., know, that., call, is.\"]                                         |0.0       |0    |\n",
            "|[\"@americanair, \"\"sorry, disappointed\"\", #outoftouchwithreality, #people, kids, jobs\"]                                             |0.0       |0    |\n",
            "+-----------------------------------------------------------------------------------------------------------------------------------+----------+-----+\n",
            "only showing top 4 rows\n",
            "\n"
          ]
        }
      ]
    },
    {
      "cell_type": "markdown",
      "source": [
        "Displaying the Final Accuracy of our Logistic Regression Prediction Model"
      ],
      "metadata": {
        "id": "qQRCbIkiTuyy"
      }
    },
    {
      "cell_type": "code",
      "source": [
        "print(\"Correct prediction using Model:\", Correct, \", Total:\", Total, \", accuracy:\", Correct/Total)"
      ],
      "metadata": {
        "colab": {
          "base_uri": "https://localhost:8080/"
        },
        "id": "ZG2g5hlCTLCD",
        "outputId": "01dee183-424b-497a-846c-ead8dcdc020d"
      },
      "execution_count": 37,
      "outputs": [
        {
          "output_type": "stream",
          "name": "stdout",
          "text": [
            "Correct prediction using Model: 3168 , Total: 3501 , accuracy: 0.9048843187660668\n"
          ]
        }
      ]
    },
    {
      "cell_type": "markdown",
      "source": [
        "-END OF CODE-"
      ],
      "metadata": {
        "id": "cyi7_nYkT5pW"
      }
    }
  ]
}